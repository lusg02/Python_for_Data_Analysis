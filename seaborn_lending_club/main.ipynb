{
 "cells": [
  {
   "cell_type": "markdown",
   "metadata": {},
   "source": [
    "> - 本项目利用Python的numpy和pandas进行数据清洗和处理，利用matplotlib，seaborn，pyecharts进行数据可视化展示和分析。\n",
    "- 本项目数据来源Lending Club官网[2017Q2 LOAN DATA](https://www.lendingclub.com/info/download-data.action)\n",
    "- 项目参考知乎专栏 [Learning Data Science - Rho](https://zhuanlan.zhihu.com/p/29651069)"
   ]
  },
  {
   "cell_type": "markdown",
   "metadata": {},
   "source": [
    "## 导入项目使用的库"
   ]
  },
  {
   "cell_type": "code",
   "execution_count": null,
   "metadata": {
    "collapsed": true
   },
   "outputs": [],
   "source": [
    "# 处理数据\n",
    "import numpy as np\n",
    "import pandas as pd\n",
    "\n",
    "# 数据可视化\n",
    "# matplotlib\n",
    "import matplotlib as mpl\n",
    "import matplotlib.pyplot as plt\n",
    "# 使图片在Jupyter的cell里展现\n",
    "%matplotlib inline\n",
    "plt.style.use('ggplot') # 使用R语言ggplot风格的配色\n",
    "plt.rcParams['font.sans-serif'] = ['SimHei']\n",
    "plt.rcParams['axes.unicode_minus'] = False\n",
    "zh_font = mpl.font_manager.FontProperties(fname = 'C:\\WIndows\\Fonts\\msyh.ttc')\n",
    "\n",
    "# seaborn\n",
    "import seaborn as sns\n",
    "sns.set_style('whitegrid') # 设置图表样式为whitegrid\n",
    "\n",
    "# pyecharts\n",
    "from pyecharts import Pie\n",
    "\n",
    "# 忽略弹出的警告\n",
    "import warnings\n",
    "warnings.filterwarnings('ignore')"
   ]
  },
  {
   "cell_type": "markdown",
   "metadata": {},
   "source": [
    "## 数据清洗"
   ]
  },
  {
   "cell_type": "markdown",
   "metadata": {},
   "source": [
    "**载入数据**"
   ]
  },
  {
   "cell_type": "code",
   "execution_count": null,
   "metadata": {
    "collapsed": true
   },
   "outputs": [],
   "source": [
    "df = pd.read_csv('LoanStats_2017Q2.csv', encoding = 'latin-1', skiprows = 1)"
   ]
  },
  {
   "cell_type": "markdown",
   "metadata": {},
   "source": [
    "`read_csv`参数详解可参考[这里](http://www.cnblogs.com/datablog/p/6127000.html)。"
   ]
  },
  {
   "cell_type": "markdown",
   "metadata": {},
   "source": [
    "### 1. 观察数据"
   ]
  },
  {
   "cell_type": "code",
   "execution_count": null,
   "metadata": {},
   "outputs": [],
   "source": [
    "# 数据行数和列数\n",
    "# df.shape\n",
    "\n",
    "# 查看数据信息\n",
    "df.info()"
   ]
  },
  {
   "cell_type": "code",
   "execution_count": null,
   "metadata": {},
   "outputs": [],
   "source": [
    "# 预览数据\n",
    "# df.tail()\n",
    "df.head()\n",
    "df.delinq_2yrs.max()"
   ]
  },
  {
   "cell_type": "markdown",
   "metadata": {},
   "source": [
    "通过观察数据我们知道该数据集有137个属性（列），我们本次分析主要用到的是`loan_amnt`, `term`, `int_rate`, `grade`, `issue_d`, `addr_state`, `loan_status`, `purpose`, `annual_inc`, `emp_length`。分别对应贷款金额、贷款期限、贷款利率、信用评级、业务发生时间、业务发生地、贷款状态、贷款用途、贷款人年收入和贷款人工作时间（年）。\n",
    "- **取出所需数据集：**"
   ]
  },
  {
   "cell_type": "code",
   "execution_count": null,
   "metadata": {},
   "outputs": [],
   "source": [
    "columns = ['loan_amnt', 'term', 'int_rate', 'grade', 'issue_d', 'addr_state', \n",
    "           'loan_status','purpose', 'annual_inc', 'emp_length', 'delinq_2yrs']\n",
    "df_loan = df[columns]\n",
    "df_loan.head()"
   ]
  },
  {
   "cell_type": "markdown",
   "metadata": {},
   "source": [
    "### 2. 缺失值清洗"
   ]
  },
  {
   "cell_type": "markdown",
   "metadata": {},
   "source": [
    "#### 2.1 统计每列缺失值比例"
   ]
  },
  {
   "cell_type": "code",
   "execution_count": null,
   "metadata": {},
   "outputs": [],
   "source": [
    "df_loan.loan_amnt[df_loan.loan_amnt.isnull()]"
   ]
  },
  {
   "cell_type": "code",
   "execution_count": null,
   "metadata": {},
   "outputs": [],
   "source": [
    "def null_count(column):     \n",
    "    return len(column[column.isnull()]) / len(column)\n",
    "\n",
    "df.apply(null_count)[df.apply(null_count) > 0.5]"
   ]
  },
  {
   "cell_type": "markdown",
   "metadata": {},
   "source": [
    "因为数据集的问题好多列的缺失值的数量是巨大的，我们可以通过设置阈值来判断是否丢弃掉这些列："
   ]
  },
  {
   "cell_type": "code",
   "execution_count": null,
   "metadata": {},
   "outputs": [],
   "source": [
    "#  设置阈值\n",
    "half_null = len(df_loan) / 2\n",
    "\n",
    "# 删除空值数大于阈值的列(`axis = 1`)\n",
    "df2 = df.dropna(thresh = half_null, axis = 1)\n",
    "df2.info()"
   ]
  },
  {
   "cell_type": "markdown",
   "metadata": {},
   "source": [
    "可以看出经过我们设置阈值来删除缺失值列原数据集已经由137列减少至101列，还是很多。这里只是给大家做个演示，我们并不需要这么多属性。我们需要的是上边得到的`df_loan`。我们看下所需数据集`df_loan`的缺失值情况："
   ]
  },
  {
   "cell_type": "code",
   "execution_count": null,
   "metadata": {},
   "outputs": [],
   "source": [
    "column_null = df_loan.apply(lambda x: x.isnull().value_counts())\n",
    "column_null"
   ]
  },
  {
   "cell_type": "markdown",
   "metadata": {},
   "source": [
    "可以看出数据集`df_loan`中的缺失值仅仅有两个，我们可以对所需列的缺失值进行填充，这里只需要直接删除即可（该数据集中所有缺失值都在同一行）"
   ]
  },
  {
   "cell_type": "markdown",
   "metadata": {},
   "source": [
    "#### 2.2 填充缺失值"
   ]
  },
  {
   "cell_type": "code",
   "execution_count": null,
   "metadata": {},
   "outputs": [],
   "source": [
    "df_loan = df_loan.dropna(how = 'all')\n",
    "df_loan.apply(lambda x: x.isnull().value_counts())"
   ]
  },
  {
   "cell_type": "markdown",
   "metadata": {},
   "source": [
    "想了解更多关于缺失值处理的知识可以参考官方文档或者[这里](http://blog.csdn.net/pipisorry/article/details/39482861)。"
   ]
  },
  {
   "cell_type": "markdown",
   "metadata": {},
   "source": [
    "### 3.格式内容清洗"
   ]
  },
  {
   "cell_type": "markdown",
   "metadata": {},
   "source": [
    "#### 3.1 去除数据中的空格"
   ]
  },
  {
   "cell_type": "code",
   "execution_count": null,
   "metadata": {},
   "outputs": [],
   "source": [
    "df_loan.head()"
   ]
  },
  {
   "cell_type": "code",
   "execution_count": null,
   "metadata": {},
   "outputs": [],
   "source": [
    "def str_trip(col):\n",
    "    if col.dtype == 'O':\n",
    "        return col.map(str.strip)\n",
    "    else:\n",
    "        return col\n",
    "\n",
    "df_loan.apply(str_trip).head()"
   ]
  },
  {
   "cell_type": "markdown",
   "metadata": {},
   "source": [
    "#### 3.2 大小写转换\n",
    "把所有的州`addr_state`全部转换为大写："
   ]
  },
  {
   "cell_type": "code",
   "execution_count": null,
   "metadata": {
    "collapsed": true
   },
   "outputs": [],
   "source": [
    "df_loan.addr_state = df_loan.addr_state.map(str.upper)"
   ]
  },
  {
   "cell_type": "markdown",
   "metadata": {},
   "source": [
    "#### 3.3 数据格式转换\n",
    "先查看数据集的数据格式："
   ]
  },
  {
   "cell_type": "code",
   "execution_count": null,
   "metadata": {},
   "outputs": [],
   "source": [
    "df_loan.dtypes"
   ]
  },
  {
   "cell_type": "markdown",
   "metadata": {},
   "source": [
    "将贷款金额设置为整型："
   ]
  },
  {
   "cell_type": "code",
   "execution_count": null,
   "metadata": {},
   "outputs": [],
   "source": [
    "df_loan.loan_amnt = df_loan.loan_amnt.astype(np.int64)\n",
    "df_loan.loan_amnt.dtype"
   ]
  },
  {
   "cell_type": "markdown",
   "metadata": {},
   "source": [
    "后续可能还会将`issue_d`列转为时间格式，因为涉及到后边的变量分类，我们到时候再说。"
   ]
  },
  {
   "cell_type": "markdown",
   "metadata": {},
   "source": [
    "### 4. 逻辑错误清洗"
   ]
  },
  {
   "cell_type": "markdown",
   "metadata": {},
   "source": [
    "#### 4.1 去重\n",
    "经过上边步骤的格式内容清洗后便可进行去重操作了，通过`duplicated()`判别是否有重复，DataFrame使用此方法时每行所有内容完全相同才会判重："
   ]
  },
  {
   "cell_type": "code",
   "execution_count": null,
   "metadata": {},
   "outputs": [],
   "source": [
    "df_loan.duplicated().value_counts()"
   ]
  },
  {
   "cell_type": "markdown",
   "metadata": {},
   "source": [
    "虽然因为我们数据集取数原因（不含唯一标识），但每行中所有列的内容都相同也是基本不可能出现的，我们这里默认为其重复了（实际工作中还需要进一步判断），直接去重："
   ]
  },
  {
   "cell_type": "code",
   "execution_count": null,
   "metadata": {},
   "outputs": [],
   "source": [
    "df_loan = df_loan.drop_duplicates(keep = 'first')\n",
    "df_loan.duplicated().value_counts()"
   ]
  },
  {
   "cell_type": "markdown",
   "metadata": {},
   "source": [
    "> 更多关于pandas去重的知识可以参考[pandas标记删除重复记录](http://blog.csdn.net/kancy110/article/details/70142728)"
   ]
  },
  {
   "cell_type": "markdown",
   "metadata": {},
   "source": [
    "#### 4.2 异常值清洗\n",
    "通过描述统计值来判断该数据集中是否存在异常值："
   ]
  },
  {
   "cell_type": "code",
   "execution_count": null,
   "metadata": {},
   "outputs": [],
   "source": [
    "df_loan.describe().astype(np.int64).T"
   ]
  },
  {
   "cell_type": "markdown",
   "metadata": {},
   "source": [
    "可以看到贷款金额`loan_amnt`最小值是1000美元，最大值是40000美元，处于正常范围。但年收入`annual_inc`最小值为0最大值为890万，这个有些离谱了，我们可以这些用户其他信息："
   ]
  },
  {
   "cell_type": "code",
   "execution_count": null,
   "metadata": {},
   "outputs": [],
   "source": [
    "# 年收入大于300万人员的信息\n",
    "df_loan[df_loan.annual_inc > 3000000]"
   ]
  },
  {
   "cell_type": "markdown",
   "metadata": {},
   "source": [
    "可以看到年收入大于500万的有俩人，头一个贷款16000美元已经还清了，好吧这个我们姑且不提。那个年收入890万美元的家伙贷款22000美元三年期的仅仅是为了还信用卡吗……那对不起，只能用平均收入替换您现在的收入咯。我们再来瞅瞅年收入小于1000美元的人的信息："
   ]
  },
  {
   "cell_type": "code",
   "execution_count": null,
   "metadata": {},
   "outputs": [],
   "source": [
    "df_loan[df_loan.annual_inc < 1000].head()"
   ]
  },
  {
   "cell_type": "markdown",
   "metadata": {},
   "source": [
    "超过百分之九十的都为0，没找到Lending Club对申请人收入的要求，我们这里为了方便只好以500万为上限和1000美元为下限进行处理，处理模式为统统替换成平均值："
   ]
  },
  {
   "cell_type": "code",
   "execution_count": null,
   "metadata": {},
   "outputs": [],
   "source": [
    "df_loan.annual_inc = df_loan.annual_inc.replace(df_loan.annual_inc[df_loan.annual_inc>5000000],\n",
    "                                               df_loan.annual_inc.mean())\n",
    "\n",
    "df_loan.annual_inc.max()"
   ]
  },
  {
   "cell_type": "code",
   "execution_count": null,
   "metadata": {},
   "outputs": [],
   "source": [
    "df_loan.annual_inc = df_loan.annual_inc.replace(df_loan.annual_inc[df_loan.annual_inc < 1000],\n",
    "                                               df_loan.annual_inc.mean())\n",
    "df_loan.annual_inc.min()"
   ]
  },
  {
   "cell_type": "markdown",
   "metadata": {},
   "source": [
    "**后续如果我们作图时又发现了其他异常数据，还需要进一步处理**"
   ]
  },
  {
   "cell_type": "markdown",
   "metadata": {},
   "source": [
    "## 可视化分析"
   ]
  },
  {
   "cell_type": "markdown",
   "metadata": {},
   "source": [
    "### 单变量分析\n",
    "我们用到的数据集有10个变量，如下："
   ]
  },
  {
   "cell_type": "code",
   "execution_count": null,
   "metadata": {},
   "outputs": [],
   "source": [
    "df_loan.dtypes"
   ]
  },
  {
   "cell_type": "markdown",
   "metadata": {},
   "source": [
    "**1. 贷款金额（loan_amnt）分布**"
   ]
  },
  {
   "cell_type": "code",
   "execution_count": null,
   "metadata": {},
   "outputs": [],
   "source": [
    "df_loan.loan_amnt.describe()"
   ]
  },
  {
   "cell_type": "code",
   "execution_count": null,
   "metadata": {},
   "outputs": [],
   "source": [
    "df_loan.issue_d.head()"
   ]
  },
  {
   "cell_type": "code",
   "execution_count": null,
   "metadata": {},
   "outputs": [],
   "source": [
    "plt.figure(figsize = (10,6))\n",
    "sns.set()\n",
    "sns.set_context('notebook', font_scale = 1, rc = {'lines.linewidth': 1.5})\n",
    "loan_displot = sns.distplot(df_loan.loan_amnt)\n",
    "plt.xlabel('贷款金额', fontproperties=zh_font)\n",
    "plt.title('Lending Club贷款金额分布情况', fontproperties=zh_font)\n",
    "loan_displot.figure.savefig('Loan Amount')"
   ]
  },
  {
   "cell_type": "markdown",
   "metadata": {},
   "source": [
    "> 关于seaborn更多的配置可参考[Seaborn - 艺术化的图表控制](https://zhuanlan.zhihu.com/p/27435863)。本篇文章里除了涉及到`set_style`外，还有移除轴线的`despline()`，临时图表样式`axes_style()`，设置布局元素规模`plotting_context()`和`set_context()`"
   ]
  },
  {
   "cell_type": "markdown",
   "metadata": {},
   "source": [
    "由上图和描述统计信息我们可知贷款金额分布呈右偏正态分布，贷款最小值为1000美元，最多为4万美元，平均1.4万左右，标准差9400，波动不是特别大。可看到Lending Club的业务主要以小额贷款为主，一般来讲大额贷款会带来高风险（当然也带来了高回报），我们得知Lending Club贷款业务带来的风险相对不会太大。"
   ]
  },
  {
   "cell_type": "markdown",
   "metadata": {},
   "source": [
    "**2. 贷款周期（月）**"
   ]
  },
  {
   "cell_type": "code",
   "execution_count": null,
   "metadata": {},
   "outputs": [],
   "source": [
    "df_loan.term.value_counts()"
   ]
  },
  {
   "cell_type": "code",
   "execution_count": null,
   "metadata": {},
   "outputs": [],
   "source": [
    "labels = ['36 month', '60 month']\n",
    "plt.pie(df_loan.term.value_counts(), labels = labels)\n",
    "plt.title('贷款周期分布', fontproperties = zh_font)\n",
    "plt.show()"
   ]
  },
  {
   "cell_type": "markdown",
   "metadata": {},
   "source": [
    "或者我们使用pyecharts生成饼图更美观一些："
   ]
  },
  {
   "cell_type": "code",
   "execution_count": null,
   "metadata": {},
   "outputs": [],
   "source": [
    "pie = Pie('贷款周期分布')\n",
    "pie.add('', ['36 month', '60 month'], [float(i) for i in pd.value_counts(df_loan.term)], is_label_show = True)\n",
    "pie"
   ]
  },
  {
   "cell_type": "markdown",
   "metadata": {},
   "source": [
    "> pyecharts更多用法可以参考[Python数据可视化](http://www.jianshu.com/p/b718c307a61c)，教程可参考pyecharts的GitHub项目[文档](https://github.com/chenjiandongx/pyecharts/blob/master/README.md)"
   ]
  },
  {
   "cell_type": "markdown",
   "metadata": {},
   "source": [
    "**3. 贷款利率分布**"
   ]
  },
  {
   "cell_type": "code",
   "execution_count": null,
   "metadata": {},
   "outputs": [],
   "source": [
    "df_loan.int_rate.dtype"
   ]
  },
  {
   "cell_type": "markdown",
   "metadata": {},
   "source": [
    "我们需要把`int_rate`转换为浮点型才能进一步分析："
   ]
  },
  {
   "cell_type": "code",
   "execution_count": null,
   "metadata": {},
   "outputs": [],
   "source": [
    "df_loan['int_rate_num'] = df_loan.int_rate.str.rstrip('%').astype('float')\n",
    "df_loan.int_rate_num.describe()"
   ]
  },
  {
   "cell_type": "code",
   "execution_count": null,
   "metadata": {},
   "outputs": [],
   "source": [
    "plt.figure(figsize = (10,6))\n",
    "sns.set()\n",
    "sns.set_context('notebook', font_scale = 1, rc = {'lines.linewidth': 2})\n",
    "rate_distplot = sns.distplot(df_loan.int_rate_num)\n",
    "plt.xlabel('贷款利率', fontproperties = zh_font)\n",
    "plt.title('贷款利率分布图', fontproperties = zh_font)\n",
    "rate_distplot.figure.savefig('Interest Rate')"
   ]
  },
  {
   "cell_type": "markdown",
   "metadata": {},
   "source": [
    "由描述统计信息和利率分布图可知贷款利率呈右偏正态分布，利率中位数12.62%，最低值5.32%，最高值30.99%...，平均13.29%。我们贷款利率越高借款人还款成本越高，违约的可能性就越高。"
   ]
  },
  {
   "cell_type": "markdown",
   "metadata": {},
   "source": [
    "**4. 客户信用等级分布**"
   ]
  },
  {
   "cell_type": "code",
   "execution_count": null,
   "metadata": {},
   "outputs": [],
   "source": [
    "df_loan.grade.value_counts()"
   ]
  },
  {
   "cell_type": "code",
   "execution_count": null,
   "metadata": {},
   "outputs": [],
   "source": [
    "attr = ['C', 'B', 'A', 'D', 'E', 'F', 'G']\n",
    "pie = Pie('客户信用等级分布情况')\n",
    "pie.add('', attr, [float(i) for i in df_loan.grade.value_counts()], is_label_show = True)\n",
    "pie"
   ]
  },
  {
   "cell_type": "markdown",
   "metadata": {},
   "source": [
    "可以看出ABC三类等级的客户共占了81.62%，Lending Club对申请人的资信情况把关还是比较严格的。"
   ]
  },
  {
   "cell_type": "markdown",
   "metadata": {},
   "source": [
    "**5. 业务地区分布**"
   ]
  },
  {
   "cell_type": "code",
   "execution_count": null,
   "metadata": {},
   "outputs": [],
   "source": [
    "df_loan.addr_state.value_counts().head()"
   ]
  },
  {
   "cell_type": "code",
   "execution_count": null,
   "metadata": {},
   "outputs": [],
   "source": [
    "plt.figure(figsize = (16, 6))\n",
    "sns.set()\n",
    "sns.set_context('notebook', font_scale = 1.5, rc = {'lines.linewidth': 2})\n",
    "ax = sns.countplot(x = 'addr_state', data = df_loan, palette = 'Set2')\n",
    "#ax.set(yscale = 'log')\n",
    "plt.xticks(rotation = 45)\n",
    "plt.title('贷款业务地区分布', fontproperties = zh_font)\n",
    "plt.show()"
   ]
  },
  {
   "cell_type": "markdown",
   "metadata": {},
   "source": [
    "**6. 贷款状态**"
   ]
  },
  {
   "cell_type": "code",
   "execution_count": null,
   "metadata": {},
   "outputs": [],
   "source": [
    "df.loan_status.value_counts()"
   ]
  },
  {
   "cell_type": "markdown",
   "metadata": {},
   "source": [
    "贷款状态往大了说其实就两种，正常和违约，但可以看到上边出现了7种情况，需要我们针对这个分类变量进行编码："
   ]
  },
  {
   "cell_type": "code",
   "execution_count": null,
   "metadata": {},
   "outputs": [],
   "source": [
    "def categorical_coded(col, dict):\n",
    "    col = pd.Series(col, copy = True)\n",
    "    \n",
    "    for key, value in dict.items():\n",
    "        col.replace(key, value, inplace = True)\n",
    "    \n",
    "    return col\n",
    "\n",
    "df_loan['loan_status_cate'] = categorical_coded(df.loan_status, \n",
    "                                                {\n",
    "                                                    'Current': 0,\n",
    "                                                    'Fully Paid': 0,\n",
    "                                                    'In Grace Period': 1,\n",
    "                                                    'Late (31-120 days)': 1,\n",
    "                                                    'Late (16-30 days)': 1,\n",
    "                                                    'Charged Off': 1,\n",
    "                                                    'Default': 0\n",
    "                                                })\n",
    "df_loan.loan_status_cate.value_counts()"
   ]
  },
  {
   "cell_type": "code",
   "execution_count": null,
   "metadata": {},
   "outputs": [],
   "source": [
    "attr = ['正常', '违约']\n",
    "pie = Pie('贷款状态占比')\n",
    "pie.add('', attr, [int(i) for i in df_loan.loan_status_cate.value_counts()], is_label_show = True)\n",
    "pie"
   ]
  },
  {
   "cell_type": "markdown",
   "metadata": {},
   "source": [
    "**7. 贷款用途**"
   ]
  },
  {
   "cell_type": "code",
   "execution_count": null,
   "metadata": {},
   "outputs": [],
   "source": [
    "df_loan.purpose.value_counts()"
   ]
  },
  {
   "cell_type": "code",
   "execution_count": null,
   "metadata": {},
   "outputs": [],
   "source": [
    "plt.figure(figsize = (10, 6))\n",
    "sns.set()\n",
    "sns.set_context('notebook', font_scale = 1.5, rc = {'lines.linewidth': 2})\n",
    "ax = sns.countplot(x = 'purpose', data = df_loan, palette = 'Set3')\n",
    "ax.set(yscale = 'log')\n",
    "plt.xticks(rotation = 45)\n",
    "plt.title('贷款用途', fontproperties = zh_font)\n",
    "plt.show()"
   ]
  },
  {
   "cell_type": "markdown",
   "metadata": {},
   "source": [
    "贷款用途前三：债务重组（借钱还旧债，好像说的是我...），信用卡还款，住房改善。通常来讲债务重组和信用卡还款的客户现金流较紧张，还款能力相对较弱，发生违约的可能性较高，公司可以做好风控的同时也能拓展更多此类客户。"
   ]
  },
  {
   "cell_type": "markdown",
   "metadata": {},
   "source": [
    "### 多变量分析"
   ]
  },
  {
   "cell_type": "markdown",
   "metadata": {},
   "source": [
    "**1. 贷款金额和时间**"
   ]
  },
  {
   "cell_type": "code",
   "execution_count": null,
   "metadata": {},
   "outputs": [],
   "source": [
    "df_loan['issue_date'] = pd.to_datetime(df_loan.issue_d)\n",
    "df_loan.head()"
   ]
  },
  {
   "cell_type": "code",
   "execution_count": null,
   "metadata": {},
   "outputs": [],
   "source": [
    "loan_amnt_groupby_date = df_loan.groupby('issue_date').sum().reset_index()\n",
    "loan_amnt_groupby_date['issue_m'] = loan_amnt_groupby_date.issue_date.apply(lambda x: x.to_period('M'))\n",
    "loan_amnt_groupby_date"
   ]
  },
  {
   "cell_type": "code",
   "execution_count": null,
   "metadata": {},
   "outputs": [],
   "source": [
    "plt.figure(figsize = (6,4))\n",
    "sns.set()\n",
    "sns.set_context('notebook', font_scale = 1, rc={'lines.linewidth': 2})\n",
    "month_barplot = sns.barplot(x='issue_m', y='loan_amnt', data = loan_amnt_groupby_date)\n",
    "plt.xlabel('月份', fontproperties = zh_font)\n",
    "plt.ylabel('贷款总额', fontproperties = zh_font)\n",
    "plt.title('不同月份贷款总额的分布', fontproperties = zh_font)"
   ]
  },
  {
   "cell_type": "markdown",
   "metadata": {},
   "source": [
    "4月份业务总额最低，但因为我们只拿到了Q2季度的数据，没办法进行同比、环比等操作来进行进一步的分析，对实际指导没有太大意义。"
   ]
  },
  {
   "cell_type": "markdown",
   "metadata": {},
   "source": [
    "**2. 贷款金额和地区**"
   ]
  },
  {
   "cell_type": "code",
   "execution_count": null,
   "metadata": {},
   "outputs": [],
   "source": [
    "loan_amnt_groupby_state = df_loan.groupby('addr_state').sum().reset_index()\n",
    "loan_amnt_groupby_state.head()"
   ]
  },
  {
   "cell_type": "code",
   "execution_count": null,
   "metadata": {},
   "outputs": [],
   "source": [
    "plt.figure(figsize = (16, 6))\n",
    "sns.set()\n",
    "sns.set_context('notebook', rc = {'lines.linewidth': 2})\n",
    "state_barplot = sns.barplot(x = 'addr_state', y = 'loan_amnt', data = loan_amnt_groupby_state)\n",
    "plt.xlabel('州', fontproperties = zh_font)\n",
    "plt.ylabel('贷款总额', fontproperties = zh_font)\n",
    "plt.title('不同地区的贷款总额', fontproperties = zh_font)"
   ]
  },
  {
   "cell_type": "markdown",
   "metadata": {},
   "source": [
    "加州、德州和纽约州的业务要远高于其他州，同时也要加大这几个地区贷款申请人的信息审核力度。如果有不同月份数据的话我们还可以观察下这些地区不同月份的业绩走向。"
   ]
  },
  {
   "cell_type": "markdown",
   "metadata": {},
   "source": [
    "**3. 信用等级、贷款期限和利率**"
   ]
  },
  {
   "cell_type": "code",
   "execution_count": null,
   "metadata": {},
   "outputs": [],
   "source": [
    "rate_pivot = df_loan.pivot_table(index = 'term', columns = 'grade', values = 'int_rate_num', aggfunc = 'mean')\n",
    "rate_pivot"
   ]
  },
  {
   "cell_type": "code",
   "execution_count": null,
   "metadata": {},
   "outputs": [],
   "source": [
    "plt.figure(figsize=(10, 6))\n",
    "sns.set_context('notebook', rc={'lines.linewidth': 2})\n",
    "rate_boxplot = sns.boxplot(y='grade', x='int_rate_num', data=df_loan)\n",
    "sns.despine(top=True)\n",
    "plt.xlabel('贷款利率', fontproperties = zh_font)\n",
    "plt.ylabel('信用评级', fontproperties = zh_font)\n",
    "plt.title('信用等级和利率的关系', fontproperties = zh_font)"
   ]
  },
  {
   "cell_type": "markdown",
   "metadata": {},
   "source": [
    "从图中可以看出信用等级越差的用户贷款利率也会越高，这也是为了控制风险的一种方式。"
   ]
  },
  {
   "cell_type": "markdown",
   "metadata": {},
   "source": [
    "**4. 贷款用途和利率**"
   ]
  },
  {
   "cell_type": "code",
   "execution_count": null,
   "metadata": {},
   "outputs": [],
   "source": [
    "plt.figure(figsize=(10, 6))\n",
    "sns.set_context('notebook', font_scale = 1.5, rc={'lines.linewidth': 2.5})\n",
    "pubpose_boxplot = sns.boxplot(y='purpose', x='int_rate_num', data=df_loan)\n",
    "plt.xlabel('贷款利率', fontproperties = zh_font)\n",
    "plt.ylabel('贷款用途图', fontproperties = zh_font)\n",
    "plt.title('贷款用途和利率的关系', fontproperties = zh_font)"
   ]
  },
  {
   "cell_type": "markdown",
   "metadata": {},
   "source": [
    "**5. 贷款金额和利率**"
   ]
  },
  {
   "cell_type": "code",
   "execution_count": null,
   "metadata": {},
   "outputs": [],
   "source": [
    "plt.figure(figsize=(10, 6))\n",
    "amnt_rate_join = sns.jointplot('loan_amnt', 'int_rate_num', data=df_loan, kind='reg',size=6)"
   ]
  },
  {
   "cell_type": "markdown",
   "metadata": {},
   "source": [
    "图中可以看出皮尔森相关系数为0.14，两者没有太大的相关性"
   ]
  },
  {
   "cell_type": "markdown",
   "metadata": {},
   "source": [
    "**6. 违约次数和贷款利率**"
   ]
  },
  {
   "cell_type": "code",
   "execution_count": null,
   "metadata": {},
   "outputs": [],
   "source": [
    "df_loan.delinq_2yrs = df_loan.delinq_2yrs.astype('int')\n",
    "df_loan.tail()"
   ]
  },
  {
   "cell_type": "code",
   "execution_count": null,
   "metadata": {},
   "outputs": [],
   "source": [
    "plt.figure(figsize=(10, 6))\n",
    "sns.set_context('notebook', rc={'lines.linewidth': 2.5})\n",
    "sboxplot = sns.boxplot(x=\"delinq_2yrs\", y=\"int_rate_num\", data=df_loan)\n",
    "plt.xlabel('违约次数', fontproperties = zh_font)\n",
    "plt.ylabel('贷款利率', fontproperties = zh_font)\n",
    "plt.title('违约次数和贷款利率', fontproperties = zh_font)"
   ]
  },
  {
   "cell_type": "markdown",
   "metadata": {},
   "source": [
    "箱线图好像不是很明显，我们可以看下这两者的线性关系："
   ]
  },
  {
   "cell_type": "code",
   "execution_count": null,
   "metadata": {},
   "outputs": [],
   "source": [
    "df_loan.int_rate_num = df_loan.int_rate_num / 100\n",
    "sns.lmplot(x='delinq_2yrs', y='int_rate_num', data=df_loan)\n",
    "plt.xlabel('违约次数', fontproperties = zh_font)\n",
    "plt.ylabel('贷款利率', fontproperties = zh_font)\n",
    "plt.title('违约次数和贷款利率的线性关系', fontproperties = zh_font)"
   ]
  },
  {
   "cell_type": "markdown",
   "metadata": {},
   "source": [
    "可以看出贷款利率大体上还是随着违约次数的增加而增加的。"
   ]
  },
  {
   "cell_type": "markdown",
   "metadata": {},
   "source": [
    "**7. 利率、收入、工作年限以及贷款状态**"
   ]
  },
  {
   "cell_type": "code",
   "execution_count": null,
   "metadata": {},
   "outputs": [],
   "source": [
    "df_loan.emp_length.value_counts()"
   ]
  },
  {
   "cell_type": "markdown",
   "metadata": {},
   "source": [
    "为了方便分析，我们需要把工作时间转为数值型数据："
   ]
  },
  {
   "cell_type": "code",
   "execution_count": null,
   "metadata": {},
   "outputs": [],
   "source": [
    "dict = {\n",
    "    'emp_length': {\n",
    "        '10+ years': 10,\n",
    "        '9 years': 9,\n",
    "        '8 years': 8,\n",
    "        '7 years': 7,\n",
    "        '6 years': 6,\n",
    "        '5 years': 5,\n",
    "        '4 years': 4,\n",
    "        '3 years': 3,\n",
    "        '2 years': 2,\n",
    "        '1 year': 1,\n",
    "        '< 1 year': 0,\n",
    "        'n/a': 0\n",
    "    }\n",
    "}\n",
    "\n",
    "df_loan = df_loan.replace(dict)\n",
    "df_loan.emp_length.value_counts()"
   ]
  },
  {
   "cell_type": "code",
   "execution_count": null,
   "metadata": {},
   "outputs": [],
   "source": [
    "sns.set_context('notebook', font_scale=2, rc={'lines.linewidth': 2.5})\n",
    "sns.pairplot(df_loan, vars=['int_rate_num','annual_inc', 'emp_length'], \n",
    "             hue='loan_status_cate', diag_kind='kde', kind='reg', size = 7)"
   ]
  },
  {
   "cell_type": "markdown",
   "metadata": {},
   "source": [
    "**8. 绘制相关系数图**"
   ]
  },
  {
   "cell_type": "code",
   "execution_count": null,
   "metadata": {},
   "outputs": [],
   "source": [
    "df_loan.corr()"
   ]
  },
  {
   "cell_type": "code",
   "execution_count": null,
   "metadata": {},
   "outputs": [],
   "source": [
    "names = ['loan_amnt', 'annual_inc', 'emp_length', 'int_rate_num', 'loan_status_cate']\n",
    "correlations = df_loan.corr()\n",
    "\n",
    "fig = plt.figure(figsize = (10, 9))\n",
    "ax = fig.add_subplot(111)\n",
    "cax = ax.matshow(correlations, vmin = -1, vmax = 1)\n",
    "fig.colorbar(cax)\n",
    "ticks = np.arange(0, 5, 1)\n",
    "ax.set_xticks(ticks)\n",
    "ax.set_yticks(ticks)\n",
    "ax.set_xticklabels(names)\n",
    "ax.set_yticklabels(names)\n",
    "plt.xticks(rotation = 45)\n",
    "plt.show()"
   ]
  }
 ],
 "metadata": {
  "kernelspec": {
   "display_name": "Python 3",
   "language": "python",
   "name": "python3"
  },
  "language_info": {
   "codemirror_mode": {
    "name": "ipython",
    "version": 3
   },
   "file_extension": ".py",
   "mimetype": "text/x-python",
   "name": "python",
   "nbconvert_exporter": "python",
   "pygments_lexer": "ipython3",
   "version": "3.6.1"
  }
 },
 "nbformat": 4,
 "nbformat_minor": 2
}
