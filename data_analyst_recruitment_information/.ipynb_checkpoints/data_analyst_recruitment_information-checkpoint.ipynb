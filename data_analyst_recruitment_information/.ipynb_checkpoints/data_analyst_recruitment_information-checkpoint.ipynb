{
 "cells": [
  {
   "cell_type": "markdown",
   "metadata": {},
   "source": [
    "> 本项目主要内容是利用pandas进行数据读取，数据概述，数据清洗和整理，分析和可视化。本项目源自知乎专栏[运营大湿兄 - 秦路](https://zhuanlan.zhihu.com/p/27784143)。"
   ]
  },
  {
   "cell_type": "markdown",
   "metadata": {},
   "source": [
    "## 加载包"
   ]
  },
  {
   "cell_type": "code",
   "execution_count": 1,
   "metadata": {
    "collapsed": true
   },
   "outputs": [],
   "source": [
    "import pandas as pd\n",
    "import numpy as np\n",
    "import matplotlib.pyplot as plt\n",
    "%matplotlib inline\n",
    "plt.style.use('ggplot') # 使用R语言中的ggplot2绘图配色风格\n",
    "plt.rcParams['font.sans-serif'] = ['SimHei'] # 图表中正常显示中文标签\n",
    "plt.rcParams['axes.unicode_minus'] = False # 解决某些负号`-`显示不正常\n",
    "pd.options.mode.chained_assignment = None  # default='warn'"
   ]
  },
  {
   "cell_type": "markdown",
   "metadata": {},
   "source": [
    "## 加载数据并处理"
   ]
  },
  {
   "cell_type": "code",
   "execution_count": 2,
   "metadata": {},
   "outputs": [
    {
     "data": {
      "text/html": [
       "<div>\n",
       "<style>\n",
       "    .dataframe thead tr:only-child th {\n",
       "        text-align: right;\n",
       "    }\n",
       "\n",
       "    .dataframe thead th {\n",
       "        text-align: left;\n",
       "    }\n",
       "\n",
       "    .dataframe tbody tr th {\n",
       "        vertical-align: top;\n",
       "    }\n",
       "</style>\n",
       "<table border=\"1\" class=\"dataframe\">\n",
       "  <thead>\n",
       "    <tr style=\"text-align: right;\">\n",
       "      <th></th>\n",
       "      <th>city</th>\n",
       "      <th>companyFullName</th>\n",
       "      <th>companyId</th>\n",
       "      <th>companyLabelList</th>\n",
       "      <th>companyShortName</th>\n",
       "      <th>companySize</th>\n",
       "      <th>businessZones</th>\n",
       "      <th>firstType</th>\n",
       "      <th>secondType</th>\n",
       "      <th>education</th>\n",
       "      <th>industryField</th>\n",
       "      <th>positionId</th>\n",
       "      <th>positionAdvantage</th>\n",
       "      <th>positionName</th>\n",
       "      <th>positionLables</th>\n",
       "      <th>salary</th>\n",
       "      <th>workYear</th>\n",
       "    </tr>\n",
       "  </thead>\n",
       "  <tbody>\n",
       "    <tr>\n",
       "      <th>0</th>\n",
       "      <td>上海</td>\n",
       "      <td>纽海信息技术(上海)有限公司</td>\n",
       "      <td>8581</td>\n",
       "      <td>['技能培训', '节日礼物', '带薪年假', '岗位晋升']</td>\n",
       "      <td>1号店</td>\n",
       "      <td>2000人以上</td>\n",
       "      <td>['张江']</td>\n",
       "      <td>技术</td>\n",
       "      <td>数据开发</td>\n",
       "      <td>硕士</td>\n",
       "      <td>移动互联网</td>\n",
       "      <td>2537336</td>\n",
       "      <td>知名平台</td>\n",
       "      <td>数据分析师</td>\n",
       "      <td>['分析师', '数据分析', '数据挖掘', '数据']</td>\n",
       "      <td>7k-9k</td>\n",
       "      <td>应届毕业生</td>\n",
       "    </tr>\n",
       "    <tr>\n",
       "      <th>1</th>\n",
       "      <td>上海</td>\n",
       "      <td>上海点荣金融信息服务有限责任公司</td>\n",
       "      <td>23177</td>\n",
       "      <td>['节日礼物', '带薪年假', '岗位晋升', '扁平管理']</td>\n",
       "      <td>点融网</td>\n",
       "      <td>500-2000人</td>\n",
       "      <td>['五里桥', '打浦桥', '制造局路']</td>\n",
       "      <td>技术</td>\n",
       "      <td>数据开发</td>\n",
       "      <td>本科</td>\n",
       "      <td>金融</td>\n",
       "      <td>2427485</td>\n",
       "      <td>挑战机会,团队好,与大牛合作,工作环境好</td>\n",
       "      <td>数据分析师-CR2017-SH2909</td>\n",
       "      <td>['分析师', '数据分析', '数据挖掘', '数据']</td>\n",
       "      <td>10k-15k</td>\n",
       "      <td>应届毕业生</td>\n",
       "    </tr>\n",
       "  </tbody>\n",
       "</table>\n",
       "</div>"
      ],
      "text/plain": [
       "  city   companyFullName  companyId                  companyLabelList  \\\n",
       "0   上海    纽海信息技术(上海)有限公司       8581  ['技能培训', '节日礼物', '带薪年假', '岗位晋升']   \n",
       "1   上海  上海点荣金融信息服务有限责任公司      23177  ['节日礼物', '带薪年假', '岗位晋升', '扁平管理']   \n",
       "\n",
       "  companyShortName companySize           businessZones firstType secondType  \\\n",
       "0              1号店     2000人以上                  ['张江']        技术       数据开发   \n",
       "1              点融网   500-2000人  ['五里桥', '打浦桥', '制造局路']        技术       数据开发   \n",
       "\n",
       "  education industryField  positionId     positionAdvantage  \\\n",
       "0        硕士         移动互联网     2537336                  知名平台   \n",
       "1        本科            金融     2427485  挑战机会,团队好,与大牛合作,工作环境好   \n",
       "\n",
       "          positionName                 positionLables   salary workYear  \n",
       "0                数据分析师  ['分析师', '数据分析', '数据挖掘', '数据']    7k-9k    应届毕业生  \n",
       "1  数据分析师-CR2017-SH2909  ['分析师', '数据分析', '数据挖掘', '数据']  10k-15k    应届毕业生  "
      ]
     },
     "execution_count": 2,
     "metadata": {},
     "output_type": "execute_result"
    }
   ],
   "source": [
    "df = pd.read_csv('DataAnalyst.csv', encoding = 'gb2312')\n",
    "\n",
    "# 预览数据\n",
    "df.head(2)"
   ]
  },
  {
   "cell_type": "markdown",
   "metadata": {},
   "source": [
    "我们使用`read_csv`载入数据，常用的还有`read_excel`和`read_table`，后者可以读取txt文件。若是服务器相关部署，还会用到`read_sql`。\n",
    "\n",
    "`read_csv`有诸多参数，这里设置`encoding = 2312`，改编码常见于Windows系统。此外常见的参数还有`sep`，分隔符（逗号，分号，`\\t`）；`header`（是否使用表头作为列名，默认是）；`names`，为列设置额外的名字。"
   ]
  },
  {
   "cell_type": "markdown",
   "metadata": {},
   "source": [
    "**1. 观察数据结构和信息**："
   ]
  },
  {
   "cell_type": "code",
   "execution_count": 3,
   "metadata": {},
   "outputs": [
    {
     "name": "stdout",
     "output_type": "stream",
     "text": [
      "<class 'pandas.core.frame.DataFrame'>\n",
      "RangeIndex: 6876 entries, 0 to 6875\n",
      "Data columns (total 17 columns):\n",
      "city                 6876 non-null object\n",
      "companyFullName      6876 non-null object\n",
      "companyId            6876 non-null int64\n",
      "companyLabelList     6170 non-null object\n",
      "companyShortName     6876 non-null object\n",
      "companySize          6876 non-null object\n",
      "businessZones        4873 non-null object\n",
      "firstType            6869 non-null object\n",
      "secondType           6870 non-null object\n",
      "education            6876 non-null object\n",
      "industryField        6876 non-null object\n",
      "positionId           6876 non-null int64\n",
      "positionAdvantage    6876 non-null object\n",
      "positionName         6876 non-null object\n",
      "positionLables       6844 non-null object\n",
      "salary               6876 non-null object\n",
      "workYear             6876 non-null object\n",
      "dtypes: int64(2), object(15)\n",
      "memory usage: 913.3+ KB\n"
     ]
    }
   ],
   "source": [
    "df.info()"
   ]
  },
  {
   "cell_type": "markdown",
   "metadata": {},
   "source": [
    "由以上信息可以看出各类字段有6876个数据，其中companyLabelList，businessZones，secondType，positionLables都存在空值；companyId和positionId为数字，其他都是字符串。"
   ]
  },
  {
   "cell_type": "markdown",
   "metadata": {},
   "source": [
    "**2. 验证是否有重复值**："
   ]
  },
  {
   "cell_type": "markdown",
   "metadata": {},
   "source": [
    "我们知道positionId是职位ID，值应该是唯一的，通过该字段查看是否有重复数据："
   ]
  },
  {
   "cell_type": "code",
   "execution_count": 4,
   "metadata": {},
   "outputs": [
    {
     "data": {
      "text/plain": [
       "5031"
      ]
     },
     "execution_count": 4,
     "metadata": {},
     "output_type": "execute_result"
    }
   ],
   "source": [
    "len(df.positionId.unique())"
   ]
  },
  {
   "cell_type": "markdown",
   "metadata": {},
   "source": [
    "通过使用`len()`和`unique()`计算出positionId唯一值有5031个，说明有重复值。我们使用`drop_duplicates()`清洗掉。"
   ]
  },
  {
   "cell_type": "markdown",
   "metadata": {},
   "source": [
    "**3. 清洗重复值**"
   ]
  },
  {
   "cell_type": "code",
   "execution_count": 5,
   "metadata": {},
   "outputs": [
    {
     "name": "stdout",
     "output_type": "stream",
     "text": [
      "<class 'pandas.core.frame.DataFrame'>\n",
      "Int64Index: 5031 entries, 0 to 6766\n",
      "Data columns (total 17 columns):\n",
      "city                 5031 non-null object\n",
      "companyFullName      5031 non-null object\n",
      "companyId            5031 non-null int64\n",
      "companyLabelList     4529 non-null object\n",
      "companyShortName     5031 non-null object\n",
      "companySize          5031 non-null object\n",
      "businessZones        3535 non-null object\n",
      "firstType            5027 non-null object\n",
      "secondType           5028 non-null object\n",
      "education            5031 non-null object\n",
      "industryField        5031 non-null object\n",
      "positionId           5031 non-null int64\n",
      "positionAdvantage    5031 non-null object\n",
      "positionName         5031 non-null object\n",
      "positionLables       5007 non-null object\n",
      "salary               5031 non-null object\n",
      "workYear             5031 non-null object\n",
      "dtypes: int64(2), object(15)\n",
      "memory usage: 707.5+ KB\n"
     ]
    }
   ],
   "source": [
    "df_duplicates = df.drop_duplicates(subset = 'positionId', keep = 'first')\n",
    "df_duplicates.info()"
   ]
  },
  {
   "cell_type": "markdown",
   "metadata": {},
   "source": [
    "`drop_duplicates`函数的`subset`参数选择以哪个列为去重基准，`keep`参数是保留方式，`keep = first`保留第一个删除后边重复值，`last`删除前面重复值保留最后一个。"
   ]
  },
  {
   "cell_type": "markdown",
   "metadata": {},
   "source": [
    "**4. 薪资数据(salary列)整理**"
   ]
  },
  {
   "cell_type": "markdown",
   "metadata": {},
   "source": [
    "该项目目的之一就是为了分析招聘薪资的下限和上限，但通过观察数据发现数据内容有小写的`8k`，也有大写的`6K`，甚至还有`9K以上`这种写法（这种情况我们默认上下限相同）。"
   ]
  },
  {
   "cell_type": "markdown",
   "metadata": {},
   "source": [
    "我们需要用到pandas的`apply`函数，它可以对DataFrame中的一行或一列数据进行操作，允许使用自定义函数。"
   ]
  },
  {
   "cell_type": "code",
   "execution_count": 6,
   "metadata": {
    "collapsed": true
   },
   "outputs": [],
   "source": [
    "def cut_word(word, method):\n",
    "    # 查找`-`处理 `7k-8k`此类数据\n",
    "    position = word.find('-')\n",
    "    length = len(word)\n",
    "    \n",
    "    # 处理 `7k-8k`此类数据\n",
    "    if position != -1:\n",
    "        bottomSalary = word[:position-1]\n",
    "        topSalary = word[position+1:length-1]\n",
    "        \n",
    "    # 处理 `9k/9K`以上此类数据\n",
    "    else: \n",
    "        bottomSalary = word[:word.upper().find('K')]\n",
    "        topSalary = bottomSalary\n",
    "        \n",
    "    if method == 'bottom':\n",
    "        return bottomSalary\n",
    "    else:\n",
    "        return topSalary"
   ]
  },
  {
   "cell_type": "markdown",
   "metadata": {},
   "source": [
    "**5. 给原数据添加 bottomSalary 和 topSalary 列：**"
   ]
  },
  {
   "cell_type": "code",
   "execution_count": 7,
   "metadata": {},
   "outputs": [
    {
     "data": {
      "text/plain": [
       "0     9\n",
       "1    15\n",
       "2     6\n",
       "3     8\n",
       "4     3\n",
       "Name: topSalary, dtype: object"
      ]
     },
     "execution_count": 7,
     "metadata": {},
     "output_type": "execute_result"
    }
   ],
   "source": [
    "df_duplicates['bottomSalary'] = df_duplicates.salary.apply(cut_word, method = 'bottom')\n",
    "df_duplicates['topSalary'] = df_duplicates.salary.apply(cut_word, method = 'top')\n",
    "df_duplicates['topSalary'].head()"
   ]
  },
  {
   "cell_type": "markdown",
   "metadata": {},
   "source": [
    "**6. 平均薪资**"
   ]
  },
  {
   "cell_type": "markdown",
   "metadata": {},
   "source": [
    "第五步中求出的薪资都是字符串格式的，我们需要使用`astype`转换为整型："
   ]
  },
  {
   "cell_type": "code",
   "execution_count": 8,
   "metadata": {},
   "outputs": [],
   "source": [
    "df_duplicates['bottomSalary'] = df_duplicates.bottomSalary.astype('int')\n",
    "df_duplicates['topSalary'] = df_duplicates.topSalary.astype('int')"
   ]
  },
  {
   "cell_type": "markdown",
   "metadata": {},
   "source": [
    "在原数据中添加平均薪资数据："
   ]
  },
  {
   "cell_type": "code",
   "execution_count": 9,
   "metadata": {},
   "outputs": [
    {
     "data": {
      "text/plain": [
       "0     8.0\n",
       "1    12.5\n",
       "2     5.0\n",
       "3     7.0\n",
       "4     2.5\n",
       "Name: avgSalary, dtype: float64"
      ]
     },
     "execution_count": 9,
     "metadata": {},
     "output_type": "execute_result"
    }
   ],
   "source": [
    "df_duplicates['avgSalary'] = df_duplicates.apply(lambda x: (x.bottomSalary + x.topSalary) / 2,\n",
    "                                                axis = 1)\n",
    "df_duplicates.avgSalary.head()"
   ]
  },
  {
   "cell_type": "markdown",
   "metadata": {},
   "source": [
    "上面处理平均薪资的代码中我们使用了Python中的lambda匿名函数，`axis`是apply中的参数，`axis = 1`表示函数将用在行方向，`aixs = 0`则是列方向。"
   ]
  },
  {
   "cell_type": "markdown",
   "metadata": {},
   "source": [
    "**7. 切选出我们想要的数据进行后续分析**"
   ]
  },
  {
   "cell_type": "code",
   "execution_count": 10,
   "metadata": {},
   "outputs": [
    {
     "data": {
      "text/html": [
       "<div>\n",
       "<style>\n",
       "    .dataframe thead tr:only-child th {\n",
       "        text-align: right;\n",
       "    }\n",
       "\n",
       "    .dataframe thead th {\n",
       "        text-align: left;\n",
       "    }\n",
       "\n",
       "    .dataframe tbody tr th {\n",
       "        vertical-align: top;\n",
       "    }\n",
       "</style>\n",
       "<table border=\"1\" class=\"dataframe\">\n",
       "  <thead>\n",
       "    <tr style=\"text-align: right;\">\n",
       "      <th></th>\n",
       "      <th>city</th>\n",
       "      <th>companyShortName</th>\n",
       "      <th>companySize</th>\n",
       "      <th>education</th>\n",
       "      <th>positionName</th>\n",
       "      <th>positionLables</th>\n",
       "      <th>workYear</th>\n",
       "      <th>avgSalary</th>\n",
       "    </tr>\n",
       "  </thead>\n",
       "  <tbody>\n",
       "    <tr>\n",
       "      <th>0</th>\n",
       "      <td>上海</td>\n",
       "      <td>1号店</td>\n",
       "      <td>2000人以上</td>\n",
       "      <td>硕士</td>\n",
       "      <td>数据分析师</td>\n",
       "      <td>['分析师', '数据分析', '数据挖掘', '数据']</td>\n",
       "      <td>应届毕业生</td>\n",
       "      <td>8.0</td>\n",
       "    </tr>\n",
       "    <tr>\n",
       "      <th>1</th>\n",
       "      <td>上海</td>\n",
       "      <td>点融网</td>\n",
       "      <td>500-2000人</td>\n",
       "      <td>本科</td>\n",
       "      <td>数据分析师-CR2017-SH2909</td>\n",
       "      <td>['分析师', '数据分析', '数据挖掘', '数据']</td>\n",
       "      <td>应届毕业生</td>\n",
       "      <td>12.5</td>\n",
       "    </tr>\n",
       "    <tr>\n",
       "      <th>2</th>\n",
       "      <td>上海</td>\n",
       "      <td>SPD</td>\n",
       "      <td>50-150人</td>\n",
       "      <td>本科</td>\n",
       "      <td>数据分析师</td>\n",
       "      <td>['分析师', '数据分析', '数据']</td>\n",
       "      <td>应届毕业生</td>\n",
       "      <td>5.0</td>\n",
       "    </tr>\n",
       "    <tr>\n",
       "      <th>3</th>\n",
       "      <td>上海</td>\n",
       "      <td>数云</td>\n",
       "      <td>150-500人</td>\n",
       "      <td>本科</td>\n",
       "      <td>大数据业务分析师【数云校招】</td>\n",
       "      <td>['商业', '分析师', '大数据', '数据']</td>\n",
       "      <td>应届毕业生</td>\n",
       "      <td>7.0</td>\n",
       "    </tr>\n",
       "  </tbody>\n",
       "</table>\n",
       "</div>"
      ],
      "text/plain": [
       "  city companyShortName companySize education         positionName  \\\n",
       "0   上海              1号店     2000人以上        硕士                数据分析师   \n",
       "1   上海              点融网   500-2000人        本科  数据分析师-CR2017-SH2909   \n",
       "2   上海              SPD     50-150人        本科                数据分析师   \n",
       "3   上海               数云    150-500人        本科       大数据业务分析师【数云校招】   \n",
       "\n",
       "                  positionLables workYear  avgSalary  \n",
       "0  ['分析师', '数据分析', '数据挖掘', '数据']    应届毕业生        8.0  \n",
       "1  ['分析师', '数据分析', '数据挖掘', '数据']    应届毕业生       12.5  \n",
       "2          ['分析师', '数据分析', '数据']    应届毕业生        5.0  \n",
       "3     ['商业', '分析师', '大数据', '数据']    应届毕业生        7.0  "
      ]
     },
     "execution_count": 10,
     "metadata": {},
     "output_type": "execute_result"
    }
   ],
   "source": [
    "df_clean = df_duplicates[['city', 'companyShortName', 'companySize',\n",
    "                         'education', 'positionName', 'positionLables',\n",
    "                         'workYear', 'avgSalary']]\n",
    "\n",
    "df_clean.head(4)"
   ]
  },
  {
   "cell_type": "markdown",
   "metadata": {},
   "source": [
    "## 描述统计分析"
   ]
  },
  {
   "cell_type": "markdown",
   "metadata": {},
   "source": [
    "**1. 我们观察下这份招聘数据中各个城市的招聘量：**"
   ]
  },
  {
   "cell_type": "code",
   "execution_count": 11,
   "metadata": {},
   "outputs": [
    {
     "data": {
      "text/plain": [
       "北京    2347\n",
       "上海     979\n",
       "深圳     527\n",
       "杭州     406\n",
       "广州     335\n",
       "成都     135\n",
       "南京      83\n",
       "武汉      69\n",
       "西安      38\n",
       "苏州      37\n",
       "厦门      30\n",
       "长沙      25\n",
       "天津      20\n",
       "Name: city, dtype: int64"
      ]
     },
     "execution_count": 11,
     "metadata": {},
     "output_type": "execute_result"
    }
   ],
   "source": [
    "df_clean.city.value_counts()"
   ]
  },
  {
   "cell_type": "markdown",
   "metadata": {},
   "source": [
    "> `value_counts()`的作用是统计所有非零元素的个数，以降序的方式输出Series"
   ]
  },
  {
   "cell_type": "markdown",
   "metadata": {},
   "source": [
    "从数据中我们可以看到北京对数据分析师的招募需求是遥遥领先的。对那些刚入行数据分析的新手来讲如果在您内城市实在找不到好的工作机会，是否可以去北京一试呢？（感觉在说我自己，泪流满面）"
   ]
  },
  {
   "cell_type": "markdown",
   "metadata": {},
   "source": [
    "**2. 招聘薪资**"
   ]
  },
  {
   "cell_type": "code",
   "execution_count": 12,
   "metadata": {},
   "outputs": [
    {
     "data": {
      "text/html": [
       "<div>\n",
       "<style>\n",
       "    .dataframe thead tr:only-child th {\n",
       "        text-align: right;\n",
       "    }\n",
       "\n",
       "    .dataframe thead th {\n",
       "        text-align: left;\n",
       "    }\n",
       "\n",
       "    .dataframe tbody tr th {\n",
       "        vertical-align: top;\n",
       "    }\n",
       "</style>\n",
       "<table border=\"1\" class=\"dataframe\">\n",
       "  <thead>\n",
       "    <tr style=\"text-align: right;\">\n",
       "      <th></th>\n",
       "      <th>avgSalary</th>\n",
       "    </tr>\n",
       "  </thead>\n",
       "  <tbody>\n",
       "    <tr>\n",
       "      <th>count</th>\n",
       "      <td>5031.000000</td>\n",
       "    </tr>\n",
       "    <tr>\n",
       "      <th>mean</th>\n",
       "      <td>17.111409</td>\n",
       "    </tr>\n",
       "    <tr>\n",
       "      <th>std</th>\n",
       "      <td>8.996242</td>\n",
       "    </tr>\n",
       "    <tr>\n",
       "      <th>min</th>\n",
       "      <td>1.500000</td>\n",
       "    </tr>\n",
       "    <tr>\n",
       "      <th>25%</th>\n",
       "      <td>11.500000</td>\n",
       "    </tr>\n",
       "    <tr>\n",
       "      <th>50%</th>\n",
       "      <td>15.000000</td>\n",
       "    </tr>\n",
       "    <tr>\n",
       "      <th>75%</th>\n",
       "      <td>22.500000</td>\n",
       "    </tr>\n",
       "    <tr>\n",
       "      <th>max</th>\n",
       "      <td>75.000000</td>\n",
       "    </tr>\n",
       "  </tbody>\n",
       "</table>\n",
       "</div>"
      ],
      "text/plain": [
       "         avgSalary\n",
       "count  5031.000000\n",
       "mean     17.111409\n",
       "std       8.996242\n",
       "min       1.500000\n",
       "25%      11.500000\n",
       "50%      15.000000\n",
       "75%      22.500000\n",
       "max      75.000000"
      ]
     },
     "execution_count": 12,
     "metadata": {},
     "output_type": "execute_result"
    }
   ],
   "source": [
    "df_clean.describe()"
   ]
  },
  {
   "cell_type": "markdown",
   "metadata": {},
   "source": [
    "我们可以看到，这份招聘数据中，平均薪资为17.1k，中位数是15k，两者相差不大；最大薪资在75k （起码要祝你幸福:)）；标准差是8.99k，有一定的波动性。"
   ]
  },
  {
   "cell_type": "markdown",
   "metadata": {},
   "source": [
    "**我们用图表来看的更直白一些**"
   ]
  },
  {
   "cell_type": "code",
   "execution_count": 14,
   "metadata": {},
   "outputs": [
    {
     "data": {
      "text/plain": [
       "<matplotlib.axes._subplots.AxesSubplot at 0x277fce65048>"
      ]
     },
     "execution_count": 14,
     "metadata": {},
     "output_type": "execute_result"
    },
    {
     "data": {
      "image/png": "[encoded data removed]",
      "text/plain": [
       "<matplotlib.figure.Figure at 0x277fd0668d0>"
      ]
     },
     "metadata": {},
     "output_type": "display_data"
    }
   ],
   "source": [
    "df_clean.avgSalary.hist(bins = 15, edgecolor = 'black')"
   ]
  },
  {
   "cell_type": "markdown",
   "metadata": {},
   "source": [
    "数据分布呈双峰状，因原始数据来源于招聘网站的爬取，薪资很容易集中在某个区间（比如招聘数据给的是10-20k的区间，以本文计算只会落在15k，并非均匀分布）"
   ]
  },
  {
   "cell_type": "markdown",
   "metadata": {},
   "source": [
    "## 细分分析"
   ]
  },
  {
   "cell_type": "markdown",
   "metadata": {},
   "source": [
    "**1. 观察不同城市对薪资的影响**"
   ]
  },
  {
   "cell_type": "markdown",
   "metadata": {},
   "source": [
    "此时轮到箱线图的出场啦！"
   ]
  },
  {
   "cell_type": "code",
   "execution_count": 15,
   "metadata": {},
   "outputs": [
    {
     "data": {
      "text/plain": [
       "<matplotlib.axes._subplots.AxesSubplot at 0x277fd0b6b38>"
      ]
     },
     "execution_count": 15,
     "metadata": {},
     "output_type": "execute_result"
    },
    {
     "data": {
      "image/png": "[encoded data removed]",
      "text/plain": [
       "<matplotlib.figure.Figure at 0x277fd08f908>"
      ]
     },
     "metadata": {},
     "output_type": "display_data"
    }
   ],
   "source": [
    "df_clean.boxplot(column = 'avgSalary', by = 'city', figsize = (9, 7))"
   ]
  },
  {
   "cell_type": "markdown",
   "metadata": {},
   "source": [
    "由上图我们可以看出北京的数据分析师薪资高于其他城市，尤其是中位数。上海和深圳稍次，杭州紧随其后，广州这城市...可能太堵了吧。"
   ]
  },
  {
   "cell_type": "markdown",
   "metadata": {},
   "source": [
    "**2. 学历对薪资的影响**"
   ]
  },
  {
   "cell_type": "code",
   "execution_count": 16,
   "metadata": {},
   "outputs": [
    {
     "data": {
      "text/plain": [
       "<matplotlib.axes._subplots.AxesSubplot at 0x277fd464518>"
      ]
     },
     "execution_count": 16,
     "metadata": {},
     "output_type": "execute_result"
    },
    {
     "data": {
      "image/png": "[encoded data removed]",
      "text/plain": [
       "<matplotlib.figure.Figure at 0x277fd273780>"
      ]
     },
     "metadata": {},
     "output_type": "display_data"
    }
   ],
   "source": [
    "df_clean.boxplot(column = 'avgSalary', by = 'education', figsize = (9, 7))"
   ]
  },
  {
   "cell_type": "markdown",
   "metadata": {},
   "source": [
    "可以看出博士薪资遥遥领先，虽然top区域不如本科和硕士，这点后续会分析。大专学历稍有弱势。"
   ]
  },
  {
   "cell_type": "markdown",
   "metadata": {},
   "source": [
    "**3. 工作年限对薪资的影响**"
   ]
  },
  {
   "cell_type": "code",
   "execution_count": 18,
   "metadata": {},
   "outputs": [
    {
     "data": {
      "text/plain": [
       "<matplotlib.axes._subplots.AxesSubplot at 0x277fd4ad7f0>"
      ]
     },
     "execution_count": 18,
     "metadata": {},
     "output_type": "execute_result"
    },
    {
     "data": {
      "image/png": "[encoded data removed]",
      "text/plain": [
       "<matplotlib.figure.Figure at 0x277fd303630>"
      ]
     },
     "metadata": {},
     "output_type": "display_data"
    }
   ],
   "source": [
    "df_clean.sort_values('workYear')\n",
    "df_clean.boxplot(column = 'avgSalary', by = 'workYear', figsize = (9, 7))"
   ]
  },
  {
   "cell_type": "markdown",
   "metadata": {},
   "source": [
    "从图中可以看出工作年限对薪资的影响还是很大的。"
   ]
  },
  {
   "cell_type": "markdown",
   "metadata": {},
   "source": [
    "**4. 多维度分析**"
   ]
  },
  {
   "cell_type": "markdown",
   "metadata": {},
   "source": [
    "我们已经分析了城市、学历和工作年限这些单一变量对薪资的影响，现在可以分析下城市和学历对薪资的影响，这里我们以北京和上海为例。"
   ]
  },
  {
   "cell_type": "code",
   "execution_count": 23,
   "metadata": {},
   "outputs": [
    {
     "data": {
      "text/plain": [
       "<matplotlib.axes._subplots.AxesSubplot at 0x277fe8b12e8>"
      ]
     },
     "execution_count": 23,
     "metadata": {},
     "output_type": "execute_result"
    },
    {
     "data": {
      "image/png": "[encoded data removed]",
      "text/plain": [
       "<matplotlib.figure.Figure at 0x277fe8b5860>"
      ]
     },
     "metadata": {},
     "output_type": "display_data"
    }
   ],
   "source": [
    "df_sh_bj = df_clean[df_clean['city'].isin(['上海', '北京'])]\n",
    "df_sh_bj.head(3)\n",
    "\n",
    "df_sh_bj.boxplot(column = 'avgSalary', by = ['education', 'city'], figsize = (14, 6))"
   ]
  },
  {
   "cell_type": "markdown",
   "metadata": {},
   "source": [
    "上面分析的代码中通过`by`传递多个值箱线图的可读自动变成元组，可以达到横向对比的作用。这种方法不适宜元素过多的场景，我们接下来会介绍`groupby`。"
   ]
  },
  {
   "cell_type": "markdown",
   "metadata": {},
   "source": [
    "从上图可以看出不同学历的背景下，北京都是略高于上海的，北京的公司愿意用更多的薪资来吸引数据分析师。而在博士这个档次，差距就很明显了。"
   ]
  },
  {
   "cell_type": "markdown",
   "metadata": {},
   "source": [
    "**使用groupby进行多元素分析**"
   ]
  },
  {
   "cell_type": "markdown",
   "metadata": {},
   "source": [
    "> 和SQL中的group by类似，将不同变量分组"
   ]
  },
  {
   "cell_type": "code",
   "execution_count": 25,
   "metadata": {},
   "outputs": [
    {
     "data": {
      "text/html": [
       "<div>\n",
       "<style>\n",
       "    .dataframe thead tr:only-child th {\n",
       "        text-align: right;\n",
       "    }\n",
       "\n",
       "    .dataframe thead th {\n",
       "        text-align: left;\n",
       "    }\n",
       "\n",
       "    .dataframe tbody tr th {\n",
       "        vertical-align: top;\n",
       "    }\n",
       "</style>\n",
       "<table border=\"1\" class=\"dataframe\">\n",
       "  <thead>\n",
       "    <tr style=\"text-align: right;\">\n",
       "      <th></th>\n",
       "      <th></th>\n",
       "      <th>avgSalary</th>\n",
       "    </tr>\n",
       "    <tr>\n",
       "      <th>city</th>\n",
       "      <th>education</th>\n",
       "      <th></th>\n",
       "    </tr>\n",
       "  </thead>\n",
       "  <tbody>\n",
       "    <tr>\n",
       "      <th rowspan=\"5\" valign=\"top\">上海</th>\n",
       "      <th>不限</th>\n",
       "      <td>14.051471</td>\n",
       "    </tr>\n",
       "    <tr>\n",
       "      <th>博士</th>\n",
       "      <td>15.000000</td>\n",
       "    </tr>\n",
       "    <tr>\n",
       "      <th>大专</th>\n",
       "      <td>13.395455</td>\n",
       "    </tr>\n",
       "    <tr>\n",
       "      <th>本科</th>\n",
       "      <td>17.987552</td>\n",
       "    </tr>\n",
       "    <tr>\n",
       "      <th>硕士</th>\n",
       "      <td>19.180000</td>\n",
       "    </tr>\n",
       "  </tbody>\n",
       "</table>\n",
       "</div>"
      ],
      "text/plain": [
       "                avgSalary\n",
       "city education           \n",
       "上海   不限         14.051471\n",
       "     博士         15.000000\n",
       "     大专         13.395455\n",
       "     本科         17.987552\n",
       "     硕士         19.180000"
      ]
     },
     "execution_count": 25,
     "metadata": {},
     "output_type": "execute_result"
    }
   ],
   "source": [
    "df_clean.groupby(['city', 'education']).mean().head()"
   ]
  },
  {
   "cell_type": "markdown",
   "metadata": {},
   "source": [
    "`groupby()`可以传递一组列表，此时得到一组层次化的Series，按城市和学历分组计算了平均薪资。我们可以使用`unstack()`进行行列转置，以便更直观的观察数据。"
   ]
  },
  {
   "cell_type": "code",
   "execution_count": 27,
   "metadata": {},
   "outputs": [
    {
     "data": {
      "text/html": [
       "<div>\n",
       "<style>\n",
       "    .dataframe thead tr:only-child th {\n",
       "        text-align: right;\n",
       "    }\n",
       "\n",
       "    .dataframe thead th {\n",
       "        text-align: left;\n",
       "    }\n",
       "\n",
       "    .dataframe tbody tr th {\n",
       "        vertical-align: top;\n",
       "    }\n",
       "</style>\n",
       "<table border=\"1\" class=\"dataframe\">\n",
       "  <thead>\n",
       "    <tr>\n",
       "      <th></th>\n",
       "      <th colspan=\"5\" halign=\"left\">avgSalary</th>\n",
       "    </tr>\n",
       "    <tr>\n",
       "      <th>education</th>\n",
       "      <th>不限</th>\n",
       "      <th>博士</th>\n",
       "      <th>大专</th>\n",
       "      <th>本科</th>\n",
       "      <th>硕士</th>\n",
       "    </tr>\n",
       "    <tr>\n",
       "      <th>city</th>\n",
       "      <th></th>\n",
       "      <th></th>\n",
       "      <th></th>\n",
       "      <th></th>\n",
       "      <th></th>\n",
       "    </tr>\n",
       "  </thead>\n",
       "  <tbody>\n",
       "    <tr>\n",
       "      <th>上海</th>\n",
       "      <td>14.051471</td>\n",
       "      <td>15.0</td>\n",
       "      <td>13.395455</td>\n",
       "      <td>17.987552</td>\n",
       "      <td>19.180000</td>\n",
       "    </tr>\n",
       "    <tr>\n",
       "      <th>北京</th>\n",
       "      <td>15.673387</td>\n",
       "      <td>25.0</td>\n",
       "      <td>12.339474</td>\n",
       "      <td>19.435802</td>\n",
       "      <td>19.759740</td>\n",
       "    </tr>\n",
       "    <tr>\n",
       "      <th>南京</th>\n",
       "      <td>7.000000</td>\n",
       "      <td>NaN</td>\n",
       "      <td>9.272727</td>\n",
       "      <td>11.327869</td>\n",
       "      <td>13.500000</td>\n",
       "    </tr>\n",
       "    <tr>\n",
       "      <th>厦门</th>\n",
       "      <td>12.500000</td>\n",
       "      <td>NaN</td>\n",
       "      <td>6.785714</td>\n",
       "      <td>11.805556</td>\n",
       "      <td>15.750000</td>\n",
       "    </tr>\n",
       "    <tr>\n",
       "      <th>天津</th>\n",
       "      <td>3.500000</td>\n",
       "      <td>NaN</td>\n",
       "      <td>5.500000</td>\n",
       "      <td>9.300000</td>\n",
       "      <td>NaN</td>\n",
       "    </tr>\n",
       "    <tr>\n",
       "      <th>广州</th>\n",
       "      <td>9.250000</td>\n",
       "      <td>NaN</td>\n",
       "      <td>8.988095</td>\n",
       "      <td>14.170259</td>\n",
       "      <td>14.571429</td>\n",
       "    </tr>\n",
       "    <tr>\n",
       "      <th>成都</th>\n",
       "      <td>10.562500</td>\n",
       "      <td>NaN</td>\n",
       "      <td>11.000000</td>\n",
       "      <td>13.520202</td>\n",
       "      <td>12.750000</td>\n",
       "    </tr>\n",
       "    <tr>\n",
       "      <th>杭州</th>\n",
       "      <td>18.269231</td>\n",
       "      <td>NaN</td>\n",
       "      <td>12.327586</td>\n",
       "      <td>16.823432</td>\n",
       "      <td>20.710526</td>\n",
       "    </tr>\n",
       "    <tr>\n",
       "      <th>武汉</th>\n",
       "      <td>10.950000</td>\n",
       "      <td>NaN</td>\n",
       "      <td>11.214286</td>\n",
       "      <td>11.500000</td>\n",
       "      <td>7.000000</td>\n",
       "    </tr>\n",
       "    <tr>\n",
       "      <th>深圳</th>\n",
       "      <td>15.100000</td>\n",
       "      <td>35.0</td>\n",
       "      <td>13.898936</td>\n",
       "      <td>18.532911</td>\n",
       "      <td>18.029412</td>\n",
       "    </tr>\n",
       "    <tr>\n",
       "      <th>苏州</th>\n",
       "      <td>NaN</td>\n",
       "      <td>NaN</td>\n",
       "      <td>14.600000</td>\n",
       "      <td>14.310345</td>\n",
       "      <td>16.833333</td>\n",
       "    </tr>\n",
       "    <tr>\n",
       "      <th>西安</th>\n",
       "      <td>8.666667</td>\n",
       "      <td>NaN</td>\n",
       "      <td>8.150000</td>\n",
       "      <td>12.208333</td>\n",
       "      <td>5.000000</td>\n",
       "    </tr>\n",
       "    <tr>\n",
       "      <th>长沙</th>\n",
       "      <td>7.642857</td>\n",
       "      <td>NaN</td>\n",
       "      <td>9.000000</td>\n",
       "      <td>10.633333</td>\n",
       "      <td>9.000000</td>\n",
       "    </tr>\n",
       "  </tbody>\n",
       "</table>\n",
       "</div>"
      ],
      "text/plain": [
       "           avgSalary                                       \n",
       "education         不限    博士         大专         本科         硕士\n",
       "city                                                       \n",
       "上海         14.051471  15.0  13.395455  17.987552  19.180000\n",
       "北京         15.673387  25.0  12.339474  19.435802  19.759740\n",
       "南京          7.000000   NaN   9.272727  11.327869  13.500000\n",
       "厦门         12.500000   NaN   6.785714  11.805556  15.750000\n",
       "天津          3.500000   NaN   5.500000   9.300000        NaN\n",
       "广州          9.250000   NaN   8.988095  14.170259  14.571429\n",
       "成都         10.562500   NaN  11.000000  13.520202  12.750000\n",
       "杭州         18.269231   NaN  12.327586  16.823432  20.710526\n",
       "武汉         10.950000   NaN  11.214286  11.500000   7.000000\n",
       "深圳         15.100000  35.0  13.898936  18.532911  18.029412\n",
       "苏州               NaN   NaN  14.600000  14.310345  16.833333\n",
       "西安          8.666667   NaN   8.150000  12.208333   5.000000\n",
       "长沙          7.642857   NaN   9.000000  10.633333   9.000000"
      ]
     },
     "execution_count": 27,
     "metadata": {},
     "output_type": "execute_result"
    }
   ],
   "source": [
    "df_clean.groupby(['city', 'education']).mean().unstack()"
   ]
  },
  {
   "cell_type": "markdown",
   "metadata": {},
   "source": [
    "不同城市中，博士学历薪资最高的在深圳，硕士学历最高的在杭州，北京综合薪资最好。"
   ]
  },
  {
   "cell_type": "markdown",
   "metadata": {},
   "source": [
    "我们可以看下不同学历的招聘人数："
   ]
  },
  {
   "cell_type": "code",
   "execution_count": 28,
   "metadata": {},
   "outputs": [
    {
     "data": {
      "text/html": [
       "<div>\n",
       "<style>\n",
       "    .dataframe thead tr:only-child th {\n",
       "        text-align: right;\n",
       "    }\n",
       "\n",
       "    .dataframe thead th {\n",
       "        text-align: left;\n",
       "    }\n",
       "\n",
       "    .dataframe tbody tr th {\n",
       "        vertical-align: top;\n",
       "    }\n",
       "</style>\n",
       "<table border=\"1\" class=\"dataframe\">\n",
       "  <thead>\n",
       "    <tr style=\"text-align: right;\">\n",
       "      <th>education</th>\n",
       "      <th>不限</th>\n",
       "      <th>博士</th>\n",
       "      <th>大专</th>\n",
       "      <th>本科</th>\n",
       "      <th>硕士</th>\n",
       "    </tr>\n",
       "    <tr>\n",
       "      <th>city</th>\n",
       "      <th></th>\n",
       "      <th></th>\n",
       "      <th></th>\n",
       "      <th></th>\n",
       "      <th></th>\n",
       "    </tr>\n",
       "  </thead>\n",
       "  <tbody>\n",
       "    <tr>\n",
       "      <th>上海</th>\n",
       "      <td>68.0</td>\n",
       "      <td>3.0</td>\n",
       "      <td>110.0</td>\n",
       "      <td>723.0</td>\n",
       "      <td>75.0</td>\n",
       "    </tr>\n",
       "    <tr>\n",
       "      <th>北京</th>\n",
       "      <td>124.0</td>\n",
       "      <td>2.0</td>\n",
       "      <td>190.0</td>\n",
       "      <td>1877.0</td>\n",
       "      <td>154.0</td>\n",
       "    </tr>\n",
       "    <tr>\n",
       "      <th>南京</th>\n",
       "      <td>5.0</td>\n",
       "      <td>NaN</td>\n",
       "      <td>11.0</td>\n",
       "      <td>61.0</td>\n",
       "      <td>6.0</td>\n",
       "    </tr>\n",
       "    <tr>\n",
       "      <th>厦门</th>\n",
       "      <td>3.0</td>\n",
       "      <td>NaN</td>\n",
       "      <td>7.0</td>\n",
       "      <td>18.0</td>\n",
       "      <td>2.0</td>\n",
       "    </tr>\n",
       "    <tr>\n",
       "      <th>天津</th>\n",
       "      <td>1.0</td>\n",
       "      <td>NaN</td>\n",
       "      <td>4.0</td>\n",
       "      <td>15.0</td>\n",
       "      <td>NaN</td>\n",
       "    </tr>\n",
       "    <tr>\n",
       "      <th>广州</th>\n",
       "      <td>12.0</td>\n",
       "      <td>NaN</td>\n",
       "      <td>84.0</td>\n",
       "      <td>232.0</td>\n",
       "      <td>7.0</td>\n",
       "    </tr>\n",
       "    <tr>\n",
       "      <th>成都</th>\n",
       "      <td>8.0</td>\n",
       "      <td>NaN</td>\n",
       "      <td>26.0</td>\n",
       "      <td>99.0</td>\n",
       "      <td>2.0</td>\n",
       "    </tr>\n",
       "    <tr>\n",
       "      <th>杭州</th>\n",
       "      <td>26.0</td>\n",
       "      <td>NaN</td>\n",
       "      <td>58.0</td>\n",
       "      <td>303.0</td>\n",
       "      <td>19.0</td>\n",
       "    </tr>\n",
       "    <tr>\n",
       "      <th>武汉</th>\n",
       "      <td>10.0</td>\n",
       "      <td>NaN</td>\n",
       "      <td>14.0</td>\n",
       "      <td>44.0</td>\n",
       "      <td>1.0</td>\n",
       "    </tr>\n",
       "    <tr>\n",
       "      <th>深圳</th>\n",
       "      <td>20.0</td>\n",
       "      <td>1.0</td>\n",
       "      <td>94.0</td>\n",
       "      <td>395.0</td>\n",
       "      <td>17.0</td>\n",
       "    </tr>\n",
       "    <tr>\n",
       "      <th>苏州</th>\n",
       "      <td>NaN</td>\n",
       "      <td>NaN</td>\n",
       "      <td>5.0</td>\n",
       "      <td>29.0</td>\n",
       "      <td>3.0</td>\n",
       "    </tr>\n",
       "    <tr>\n",
       "      <th>西安</th>\n",
       "      <td>3.0</td>\n",
       "      <td>NaN</td>\n",
       "      <td>10.0</td>\n",
       "      <td>24.0</td>\n",
       "      <td>1.0</td>\n",
       "    </tr>\n",
       "    <tr>\n",
       "      <th>长沙</th>\n",
       "      <td>7.0</td>\n",
       "      <td>NaN</td>\n",
       "      <td>2.0</td>\n",
       "      <td>15.0</td>\n",
       "      <td>1.0</td>\n",
       "    </tr>\n",
       "  </tbody>\n",
       "</table>\n",
       "</div>"
      ],
      "text/plain": [
       "education     不限   博士     大专      本科     硕士\n",
       "city                                       \n",
       "上海          68.0  3.0  110.0   723.0   75.0\n",
       "北京         124.0  2.0  190.0  1877.0  154.0\n",
       "南京           5.0  NaN   11.0    61.0    6.0\n",
       "厦门           3.0  NaN    7.0    18.0    2.0\n",
       "天津           1.0  NaN    4.0    15.0    NaN\n",
       "广州          12.0  NaN   84.0   232.0    7.0\n",
       "成都           8.0  NaN   26.0    99.0    2.0\n",
       "杭州          26.0  NaN   58.0   303.0   19.0\n",
       "武汉          10.0  NaN   14.0    44.0    1.0\n",
       "深圳          20.0  1.0   94.0   395.0   17.0\n",
       "苏州           NaN  NaN    5.0    29.0    3.0\n",
       "西安           3.0  NaN   10.0    24.0    1.0\n",
       "长沙           7.0  NaN    2.0    15.0    1.0"
      ]
     },
     "execution_count": 28,
     "metadata": {},
     "output_type": "execute_result"
    }
   ],
   "source": [
    "df_clean.groupby(['city', 'education']).avgSalary.count().unstack()"
   ]
  },
  {
   "cell_type": "markdown",
   "metadata": {},
   "source": [
    "我们可以看出要求博士学历的岗位只有6个。我们计算的平均薪资只取决于公司开出的价码波动性很强，毕竟不是真实的博士的在职薪资。"
   ]
  },
  {
   "cell_type": "markdown",
   "metadata": {},
   "source": [
    "**5. 不同公司数据分析师招聘需求量**"
   ]
  },
  {
   "cell_type": "code",
   "execution_count": 29,
   "metadata": {},
   "outputs": [
    {
     "data": {
      "text/html": [
       "<div>\n",
       "<style>\n",
       "    .dataframe thead tr:only-child th {\n",
       "        text-align: right;\n",
       "    }\n",
       "\n",
       "    .dataframe thead th {\n",
       "        text-align: left;\n",
       "    }\n",
       "\n",
       "    .dataframe tbody tr th {\n",
       "        vertical-align: top;\n",
       "    }\n",
       "</style>\n",
       "<table border=\"1\" class=\"dataframe\">\n",
       "  <thead>\n",
       "    <tr style=\"text-align: right;\">\n",
       "      <th></th>\n",
       "      <th>count</th>\n",
       "      <th>mean</th>\n",
       "    </tr>\n",
       "    <tr>\n",
       "      <th>companyShortName</th>\n",
       "      <th></th>\n",
       "      <th></th>\n",
       "    </tr>\n",
       "  </thead>\n",
       "  <tbody>\n",
       "    <tr>\n",
       "      <th>美团点评</th>\n",
       "      <td>175</td>\n",
       "      <td>21.862857</td>\n",
       "    </tr>\n",
       "    <tr>\n",
       "      <th>滴滴出行</th>\n",
       "      <td>64</td>\n",
       "      <td>27.351562</td>\n",
       "    </tr>\n",
       "    <tr>\n",
       "      <th>百度</th>\n",
       "      <td>44</td>\n",
       "      <td>19.136364</td>\n",
       "    </tr>\n",
       "    <tr>\n",
       "      <th>网易</th>\n",
       "      <td>36</td>\n",
       "      <td>18.208333</td>\n",
       "    </tr>\n",
       "    <tr>\n",
       "      <th>今日头条</th>\n",
       "      <td>32</td>\n",
       "      <td>17.125000</td>\n",
       "    </tr>\n",
       "    <tr>\n",
       "      <th>腾讯</th>\n",
       "      <td>32</td>\n",
       "      <td>22.437500</td>\n",
       "    </tr>\n",
       "    <tr>\n",
       "      <th>京东</th>\n",
       "      <td>32</td>\n",
       "      <td>20.390625</td>\n",
       "    </tr>\n",
       "    <tr>\n",
       "      <th>百度外卖</th>\n",
       "      <td>31</td>\n",
       "      <td>17.774194</td>\n",
       "    </tr>\n",
       "    <tr>\n",
       "      <th>个推</th>\n",
       "      <td>31</td>\n",
       "      <td>14.516129</td>\n",
       "    </tr>\n",
       "    <tr>\n",
       "      <th>TalkingData</th>\n",
       "      <td>28</td>\n",
       "      <td>16.160714</td>\n",
       "    </tr>\n",
       "    <tr>\n",
       "      <th>宜信</th>\n",
       "      <td>27</td>\n",
       "      <td>22.851852</td>\n",
       "    </tr>\n",
       "    <tr>\n",
       "      <th>搜狐媒体</th>\n",
       "      <td>23</td>\n",
       "      <td>25.739130</td>\n",
       "    </tr>\n",
       "    <tr>\n",
       "      <th>饿了么</th>\n",
       "      <td>23</td>\n",
       "      <td>19.391304</td>\n",
       "    </tr>\n",
       "    <tr>\n",
       "      <th>Gridsum 国双</th>\n",
       "      <td>23</td>\n",
       "      <td>19.086957</td>\n",
       "    </tr>\n",
       "    <tr>\n",
       "      <th>去哪儿网</th>\n",
       "      <td>22</td>\n",
       "      <td>17.863636</td>\n",
       "    </tr>\n",
       "    <tr>\n",
       "      <th>汽车之家</th>\n",
       "      <td>21</td>\n",
       "      <td>18.952381</td>\n",
       "    </tr>\n",
       "    <tr>\n",
       "      <th>乐视</th>\n",
       "      <td>19</td>\n",
       "      <td>21.052632</td>\n",
       "    </tr>\n",
       "    <tr>\n",
       "      <th>京东商城</th>\n",
       "      <td>19</td>\n",
       "      <td>23.763158</td>\n",
       "    </tr>\n",
       "    <tr>\n",
       "      <th>滴滴出行（小桔科技）</th>\n",
       "      <td>18</td>\n",
       "      <td>34.722222</td>\n",
       "    </tr>\n",
       "    <tr>\n",
       "      <th>人人行(借贷宝)</th>\n",
       "      <td>17</td>\n",
       "      <td>21.088235</td>\n",
       "    </tr>\n",
       "    <tr>\n",
       "      <th>链家网</th>\n",
       "      <td>16</td>\n",
       "      <td>17.250000</td>\n",
       "    </tr>\n",
       "    <tr>\n",
       "      <th>嘉琪科技</th>\n",
       "      <td>16</td>\n",
       "      <td>24.625000</td>\n",
       "    </tr>\n",
       "    <tr>\n",
       "      <th>百融金服</th>\n",
       "      <td>16</td>\n",
       "      <td>17.500000</td>\n",
       "    </tr>\n",
       "    <tr>\n",
       "      <th>易到用车</th>\n",
       "      <td>16</td>\n",
       "      <td>16.156250</td>\n",
       "    </tr>\n",
       "    <tr>\n",
       "      <th>通联数据</th>\n",
       "      <td>16</td>\n",
       "      <td>8.843750</td>\n",
       "    </tr>\n",
       "    <tr>\n",
       "      <th>星河互联集团</th>\n",
       "      <td>16</td>\n",
       "      <td>29.062500</td>\n",
       "    </tr>\n",
       "    <tr>\n",
       "      <th>陌陌</th>\n",
       "      <td>15</td>\n",
       "      <td>18.566667</td>\n",
       "    </tr>\n",
       "    <tr>\n",
       "      <th>买单侠</th>\n",
       "      <td>15</td>\n",
       "      <td>18.600000</td>\n",
       "    </tr>\n",
       "    <tr>\n",
       "      <th>有数金服</th>\n",
       "      <td>15</td>\n",
       "      <td>13.700000</td>\n",
       "    </tr>\n",
       "    <tr>\n",
       "      <th>返利网</th>\n",
       "      <td>15</td>\n",
       "      <td>23.833333</td>\n",
       "    </tr>\n",
       "    <tr>\n",
       "      <th>...</th>\n",
       "      <td>...</td>\n",
       "      <td>...</td>\n",
       "    </tr>\n",
       "    <tr>\n",
       "      <th>图灵机器人</th>\n",
       "      <td>1</td>\n",
       "      <td>32.500000</td>\n",
       "    </tr>\n",
       "    <tr>\n",
       "      <th>国金证券</th>\n",
       "      <td>1</td>\n",
       "      <td>37.500000</td>\n",
       "    </tr>\n",
       "    <tr>\n",
       "      <th>大观资本</th>\n",
       "      <td>1</td>\n",
       "      <td>4.500000</td>\n",
       "    </tr>\n",
       "    <tr>\n",
       "      <th>大麦网</th>\n",
       "      <td>1</td>\n",
       "      <td>55.000000</td>\n",
       "    </tr>\n",
       "    <tr>\n",
       "      <th>天会创投</th>\n",
       "      <td>1</td>\n",
       "      <td>5.000000</td>\n",
       "    </tr>\n",
       "    <tr>\n",
       "      <th>天会皓闻</th>\n",
       "      <td>1</td>\n",
       "      <td>3.500000</td>\n",
       "    </tr>\n",
       "    <tr>\n",
       "      <th>太子龙</th>\n",
       "      <td>1</td>\n",
       "      <td>4.000000</td>\n",
       "    </tr>\n",
       "    <tr>\n",
       "      <th>天骄尚学</th>\n",
       "      <td>1</td>\n",
       "      <td>10.000000</td>\n",
       "    </tr>\n",
       "    <tr>\n",
       "      <th>天阳科技</th>\n",
       "      <td>1</td>\n",
       "      <td>11.500000</td>\n",
       "    </tr>\n",
       "    <tr>\n",
       "      <th>天闻数媒</th>\n",
       "      <td>1</td>\n",
       "      <td>15.000000</td>\n",
       "    </tr>\n",
       "    <tr>\n",
       "      <th>天融互联</th>\n",
       "      <td>1</td>\n",
       "      <td>20.000000</td>\n",
       "    </tr>\n",
       "    <tr>\n",
       "      <th>天育</th>\n",
       "      <td>1</td>\n",
       "      <td>7.000000</td>\n",
       "    </tr>\n",
       "    <tr>\n",
       "      <th>天翼阅读文化传播有限公司</th>\n",
       "      <td>1</td>\n",
       "      <td>15.000000</td>\n",
       "    </tr>\n",
       "    <tr>\n",
       "      <th>天眼互联</th>\n",
       "      <td>1</td>\n",
       "      <td>7.500000</td>\n",
       "    </tr>\n",
       "    <tr>\n",
       "      <th>天相瑞通</th>\n",
       "      <td>1</td>\n",
       "      <td>7.500000</td>\n",
       "    </tr>\n",
       "    <tr>\n",
       "      <th>天玑科技</th>\n",
       "      <td>1</td>\n",
       "      <td>15.000000</td>\n",
       "    </tr>\n",
       "    <tr>\n",
       "      <th>天源迪科</th>\n",
       "      <td>1</td>\n",
       "      <td>31.500000</td>\n",
       "    </tr>\n",
       "    <tr>\n",
       "      <th>天津赛维斯科技有限公司</th>\n",
       "      <td>1</td>\n",
       "      <td>5.000000</td>\n",
       "    </tr>\n",
       "    <tr>\n",
       "      <th>天津航空</th>\n",
       "      <td>1</td>\n",
       "      <td>9.000000</td>\n",
       "    </tr>\n",
       "    <tr>\n",
       "      <th>天津美源星</th>\n",
       "      <td>1</td>\n",
       "      <td>3.500000</td>\n",
       "    </tr>\n",
       "    <tr>\n",
       "      <th>天津小猫</th>\n",
       "      <td>1</td>\n",
       "      <td>11.500000</td>\n",
       "    </tr>\n",
       "    <tr>\n",
       "      <th>天气宝</th>\n",
       "      <td>1</td>\n",
       "      <td>15.000000</td>\n",
       "    </tr>\n",
       "    <tr>\n",
       "      <th>天星资本</th>\n",
       "      <td>1</td>\n",
       "      <td>11.000000</td>\n",
       "    </tr>\n",
       "    <tr>\n",
       "      <th>天弘基金</th>\n",
       "      <td>1</td>\n",
       "      <td>25.000000</td>\n",
       "    </tr>\n",
       "    <tr>\n",
       "      <th>天尧信息</th>\n",
       "      <td>1</td>\n",
       "      <td>15.000000</td>\n",
       "    </tr>\n",
       "    <tr>\n",
       "      <th>天宝</th>\n",
       "      <td>1</td>\n",
       "      <td>22.500000</td>\n",
       "    </tr>\n",
       "    <tr>\n",
       "      <th>天天果园</th>\n",
       "      <td>1</td>\n",
       "      <td>17.500000</td>\n",
       "    </tr>\n",
       "    <tr>\n",
       "      <th>天地汇</th>\n",
       "      <td>1</td>\n",
       "      <td>14.000000</td>\n",
       "    </tr>\n",
       "    <tr>\n",
       "      <th>天同</th>\n",
       "      <td>1</td>\n",
       "      <td>15.000000</td>\n",
       "    </tr>\n",
       "    <tr>\n",
       "      <th>龙浩通信</th>\n",
       "      <td>1</td>\n",
       "      <td>5.000000</td>\n",
       "    </tr>\n",
       "  </tbody>\n",
       "</table>\n",
       "<p>2243 rows × 2 columns</p>\n",
       "</div>"
      ],
      "text/plain": [
       "                  count       mean\n",
       "companyShortName                  \n",
       "美团点评                175  21.862857\n",
       "滴滴出行                 64  27.351562\n",
       "百度                   44  19.136364\n",
       "网易                   36  18.208333\n",
       "今日头条                 32  17.125000\n",
       "腾讯                   32  22.437500\n",
       "京东                   32  20.390625\n",
       "百度外卖                 31  17.774194\n",
       "个推                   31  14.516129\n",
       "TalkingData          28  16.160714\n",
       "宜信                   27  22.851852\n",
       "搜狐媒体                 23  25.739130\n",
       "饿了么                  23  19.391304\n",
       "Gridsum 国双           23  19.086957\n",
       "去哪儿网                 22  17.863636\n",
       "汽车之家                 21  18.952381\n",
       "乐视                   19  21.052632\n",
       "京东商城                 19  23.763158\n",
       "滴滴出行（小桔科技）           18  34.722222\n",
       "人人行(借贷宝)             17  21.088235\n",
       "链家网                  16  17.250000\n",
       "嘉琪科技                 16  24.625000\n",
       "百融金服                 16  17.500000\n",
       "易到用车                 16  16.156250\n",
       "通联数据                 16   8.843750\n",
       "星河互联集团               16  29.062500\n",
       "陌陌                   15  18.566667\n",
       "买单侠                  15  18.600000\n",
       "有数金服                 15  13.700000\n",
       "返利网                  15  23.833333\n",
       "...                 ...        ...\n",
       "图灵机器人                 1  32.500000\n",
       "国金证券                  1  37.500000\n",
       "大观资本                  1   4.500000\n",
       "大麦网                   1  55.000000\n",
       "天会创投                  1   5.000000\n",
       "天会皓闻                  1   3.500000\n",
       "太子龙                   1   4.000000\n",
       "天骄尚学                  1  10.000000\n",
       "天阳科技                  1  11.500000\n",
       "天闻数媒                  1  15.000000\n",
       "天融互联                  1  20.000000\n",
       "天育                    1   7.000000\n",
       "天翼阅读文化传播有限公司          1  15.000000\n",
       "天眼互联                  1   7.500000\n",
       "天相瑞通                  1   7.500000\n",
       "天玑科技                  1  15.000000\n",
       "天源迪科                  1  31.500000\n",
       "天津赛维斯科技有限公司           1   5.000000\n",
       "天津航空                  1   9.000000\n",
       "天津美源星                 1   3.500000\n",
       "天津小猫                  1  11.500000\n",
       "天气宝                   1  15.000000\n",
       "天星资本                  1  11.000000\n",
       "天弘基金                  1  25.000000\n",
       "天尧信息                  1  15.000000\n",
       "天宝                    1  22.500000\n",
       "天天果园                  1  17.500000\n",
       "天地汇                   1  14.000000\n",
       "天同                    1  15.000000\n",
       "龙浩通信                  1   5.000000\n",
       "\n",
       "[2243 rows x 2 columns]"
      ]
     },
     "execution_count": 29,
     "metadata": {},
     "output_type": "execute_result"
    }
   ],
   "source": [
    "df_clean.groupby('companyShortName').avgSalary.agg(['count', 'mean']).sort_values(by = 'count',\n",
    "                                                                                 ascending = False)"
   ]
  },
  {
   "cell_type": "markdown",
   "metadata": {},
   "source": [
    "我们可以看出**这份招聘数据中**美团点评对数据分析师的需求量是极其大的，同时也可以得到对数据分析师需求前十的公司愿意支付多少薪水。"
   ]
  },
  {
   "cell_type": "markdown",
   "metadata": {},
   "source": [
    "**6. 不同城市，招聘数据分析师前5的公司**"
   ]
  },
  {
   "cell_type": "markdown",
   "metadata": {},
   "source": [
    "这类前几前几的分析问题可能经常出现，我们可以封装一个前N的函数："
   ]
  },
  {
   "cell_type": "code",
   "execution_count": 30,
   "metadata": {
    "collapsed": true
   },
   "outputs": [],
   "source": [
    "def topN(df, n = 5):\n",
    "    '''\n",
    "    将传入的数据计数，从大到小排序，返回前n的数据\n",
    "    '''\n",
    "    counts = df.value_counts()\n",
    "    return counts.sort_values(ascending = False)[:n]"
   ]
  },
  {
   "cell_type": "code",
   "execution_count": 33,
   "metadata": {},
   "outputs": [
    {
     "data": {
      "text/plain": [
       "city      \n",
       "上海    饿了么     23\n",
       "      美团点评    19\n",
       "      返利网     15\n",
       "      买单侠     15\n",
       "      点融网     11\n",
       "Name: companyShortName, dtype: int64"
      ]
     },
     "execution_count": 33,
     "metadata": {},
     "output_type": "execute_result"
    }
   ],
   "source": [
    "city_company_dacount_top5 = df_clean.groupby('city').companyShortName.apply(topN)\n",
    "city_company_dacount_top5.head()"
   ]
  },
  {
   "cell_type": "markdown",
   "metadata": {},
   "source": [
    "上边的数据可以清楚的看到每个城市对数据分析师需求最大的top5公司。"
   ]
  },
  {
   "cell_type": "markdown",
   "metadata": {},
   "source": [
    "**7. 不同城市，职位招聘数前五**"
   ]
  },
  {
   "cell_type": "code",
   "execution_count": 34,
   "metadata": {},
   "outputs": [
    {
     "data": {
      "text/plain": [
       "city          \n",
       "上海    数据分析师        79\n",
       "      大数据开发工程师     37\n",
       "      数据产品经理       31\n",
       "      大数据工程师       26\n",
       "      高级数据分析师      20\n",
       "北京    数据分析师       238\n",
       "      数据产品经理      121\n",
       "      大数据开发工程师     69\n",
       "      分析师          49\n",
       "      数据分析         42\n",
       "Name: positionName, dtype: int64"
      ]
     },
     "execution_count": 34,
     "metadata": {},
     "output_type": "execute_result"
    }
   ],
   "source": [
    "df_clean.groupby('city').positionName.apply(topN).head(10)"
   ]
  },
  {
   "cell_type": "markdown",
   "metadata": {},
   "source": [
    "## 图表会说话"
   ]
  },
  {
   "cell_type": "markdown",
   "metadata": {},
   "source": [
    "**1. 不同城市给出的薪水**"
   ]
  },
  {
   "cell_type": "code",
   "execution_count": 35,
   "metadata": {},
   "outputs": [
    {
     "data": {
      "text/plain": [
       "<matplotlib.axes._subplots.AxesSubplot at 0x277fea934a8>"
      ]
     },
     "execution_count": 35,
     "metadata": {},
     "output_type": "execute_result"
    },
    {
     "data": {
      "image/png": "[encoded data removed]",
      "text/plain": [
       "<matplotlib.figure.Figure at 0x277fea97c18>"
      ]
     },
     "metadata": {},
     "output_type": "display_data"
    }
   ],
   "source": [
    "df_clean.groupby('city').mean().plot.bar()"
   ]
  },
  {
   "cell_type": "markdown",
   "metadata": {},
   "source": [
    "**2. 不同城市不同学历给出的薪水**"
   ]
  },
  {
   "cell_type": "code",
   "execution_count": 36,
   "metadata": {},
   "outputs": [
    {
     "data": {
      "image/png": "[encoded data removed]",
      "text/plain": [
       "<matplotlib.figure.Figure at 0x277feae61d0>"
      ]
     },
     "metadata": {},
     "output_type": "display_data"
    }
   ],
   "source": [
    "ax = df_clean.groupby(['city', 'education']).mean().unstack().plot.bar(figsize=(14,6))"
   ]
  },
  {
   "cell_type": "markdown",
   "metadata": {},
   "source": [
    "**3. 北京和上海薪资数据对比**"
   ]
  },
  {
   "cell_type": "code",
   "execution_count": 37,
   "metadata": {},
   "outputs": [
    {
     "data": {
      "image/png": "[encoded data removed]",
      "text/plain": [
       "<matplotlib.figure.Figure at 0x277ffdb9d68>"
      ]
     },
     "metadata": {},
     "output_type": "display_data"
    }
   ],
   "source": [
    "plt.hist(x = df_clean[df_clean.city == '上海'].avgSalary,\n",
    "         bins = 15,\n",
    "         normed = 1,\n",
    "         facecolor = 'blue',\n",
    "         alpha = 0.5)\n",
    "\n",
    "plt.hist(x = df_clean[df_clean.city == '北京'].avgSalary,\n",
    "        bins = 15,\n",
    "        normed = 1,\n",
    "        facecolor = 'red',\n",
    "        alpha = 0.5)\n",
    "\n",
    "plt.show()"
   ]
  },
  {
   "cell_type": "markdown",
   "metadata": {},
   "source": [
    "因北京和上海需求分析师人数相差较多无法直接对比，用`normed`参数转化为密度。"
   ]
  },
  {
   "cell_type": "markdown",
   "metadata": {},
   "source": [
    "**4. 对薪资数据深加工，设立不同的level**"
   ]
  },
  {
   "cell_type": "code",
   "execution_count": 42,
   "metadata": {
    "collapsed": true
   },
   "outputs": [],
   "source": [
    "bins = [0, 3, 5, 10, 15, 20, 30, 100]\n",
    "level = ['0~3', '3~5', '5~10', '10~15', '15~20', '20~30', '30+']\n",
    "\n",
    "df_clean['level'] = pd.cut(df_clean['avgSalary'], bins = bins, labels = level)"
   ]
  },
  {
   "cell_type": "markdown",
   "metadata": {},
   "source": [
    "我们可以预览下数据"
   ]
  },
  {
   "cell_type": "code",
   "execution_count": 43,
   "metadata": {},
   "outputs": [
    {
     "data": {
      "text/html": [
       "<div>\n",
       "<style>\n",
       "    .dataframe thead tr:only-child th {\n",
       "        text-align: right;\n",
       "    }\n",
       "\n",
       "    .dataframe thead th {\n",
       "        text-align: left;\n",
       "    }\n",
       "\n",
       "    .dataframe tbody tr th {\n",
       "        vertical-align: top;\n",
       "    }\n",
       "</style>\n",
       "<table border=\"1\" class=\"dataframe\">\n",
       "  <thead>\n",
       "    <tr style=\"text-align: right;\">\n",
       "      <th></th>\n",
       "      <th>avgSalary</th>\n",
       "      <th>level</th>\n",
       "    </tr>\n",
       "  </thead>\n",
       "  <tbody>\n",
       "    <tr>\n",
       "      <th>0</th>\n",
       "      <td>8.0</td>\n",
       "      <td>5~10</td>\n",
       "    </tr>\n",
       "    <tr>\n",
       "      <th>1</th>\n",
       "      <td>12.5</td>\n",
       "      <td>10~15</td>\n",
       "    </tr>\n",
       "    <tr>\n",
       "      <th>2</th>\n",
       "      <td>5.0</td>\n",
       "      <td>3~5</td>\n",
       "    </tr>\n",
       "    <tr>\n",
       "      <th>3</th>\n",
       "      <td>7.0</td>\n",
       "      <td>5~10</td>\n",
       "    </tr>\n",
       "    <tr>\n",
       "      <th>4</th>\n",
       "      <td>2.5</td>\n",
       "      <td>0~3</td>\n",
       "    </tr>\n",
       "    <tr>\n",
       "      <th>5</th>\n",
       "      <td>12.5</td>\n",
       "      <td>10~15</td>\n",
       "    </tr>\n",
       "    <tr>\n",
       "      <th>6</th>\n",
       "      <td>10.5</td>\n",
       "      <td>10~15</td>\n",
       "    </tr>\n",
       "    <tr>\n",
       "      <th>7</th>\n",
       "      <td>6.0</td>\n",
       "      <td>5~10</td>\n",
       "    </tr>\n",
       "  </tbody>\n",
       "</table>\n",
       "</div>"
      ],
      "text/plain": [
       "   avgSalary  level\n",
       "0        8.0   5~10\n",
       "1       12.5  10~15\n",
       "2        5.0    3~5\n",
       "3        7.0   5~10\n",
       "4        2.5    0~3\n",
       "5       12.5  10~15\n",
       "6       10.5  10~15\n",
       "7        6.0   5~10"
      ]
     },
     "execution_count": 43,
     "metadata": {},
     "output_type": "execute_result"
    }
   ],
   "source": [
    "df_clean[['avgSalary', 'level']].head(8)"
   ]
  },
  {
   "cell_type": "markdown",
   "metadata": {},
   "source": [
    "> `cut`的作用是分桶（数据分析常用方法之一），将不同数据划分出不同等级，即将数值型数据加工分成分类数据，在机器学习的特征工程中应用比较多。参数`level`指定分类（面元）的名称。"
   ]
  },
  {
   "cell_type": "code",
   "execution_count": 44,
   "metadata": {},
   "outputs": [
    {
     "data": {
      "text/plain": [
       "<matplotlib.axes._subplots.AxesSubplot at 0x2778014e5c0>"
      ]
     },
     "execution_count": 44,
     "metadata": {},
     "output_type": "execute_result"
    },
    {
     "data": {
      "image/png": "[encoded data removed]",
      "text/plain": [
       "<matplotlib.figure.Figure at 0x277fff32518>"
      ]
     },
     "metadata": {},
     "output_type": "display_data"
    }
   ],
   "source": [
    "df_level = df_clean.groupby(['city', 'level']).avgSalary.count().unstack()\n",
    "df_level_prop = df_level.apply(lambda x: x/x.sum(), axis = 1)\n",
    "df_level_prop.plot.bar(stacked = True, figsize = (14, 6))"
   ]
  },
  {
   "cell_type": "markdown",
   "metadata": {},
   "source": [
    "上面代码中通过`lambda`函数转换百分比，然后作堆积百分比柱形图。我们可以清晰的得出不同等级在不同地区的薪资占比。"
   ]
  },
  {
   "cell_type": "code",
   "execution_count": 45,
   "metadata": {},
   "outputs": [
    {
     "data": {
      "text/html": [
       "<div>\n",
       "<style>\n",
       "    .dataframe thead tr:only-child th {\n",
       "        text-align: right;\n",
       "    }\n",
       "\n",
       "    .dataframe thead th {\n",
       "        text-align: left;\n",
       "    }\n",
       "\n",
       "    .dataframe tbody tr th {\n",
       "        vertical-align: top;\n",
       "    }\n",
       "</style>\n",
       "<table border=\"1\" class=\"dataframe\">\n",
       "  <thead>\n",
       "    <tr style=\"text-align: right;\">\n",
       "      <th>level</th>\n",
       "      <th>0~3</th>\n",
       "      <th>3~5</th>\n",
       "      <th>5~10</th>\n",
       "      <th>10~15</th>\n",
       "      <th>15~20</th>\n",
       "      <th>20~30</th>\n",
       "      <th>30+</th>\n",
       "    </tr>\n",
       "    <tr>\n",
       "      <th>city</th>\n",
       "      <th></th>\n",
       "      <th></th>\n",
       "      <th></th>\n",
       "      <th></th>\n",
       "      <th></th>\n",
       "      <th></th>\n",
       "      <th></th>\n",
       "    </tr>\n",
       "  </thead>\n",
       "  <tbody>\n",
       "    <tr>\n",
       "      <th>上海</th>\n",
       "      <td>0.038815</td>\n",
       "      <td>0.034729</td>\n",
       "      <td>0.121553</td>\n",
       "      <td>0.312564</td>\n",
       "      <td>0.209397</td>\n",
       "      <td>0.229826</td>\n",
       "      <td>0.053115</td>\n",
       "    </tr>\n",
       "    <tr>\n",
       "      <th>北京</th>\n",
       "      <td>0.022582</td>\n",
       "      <td>0.046442</td>\n",
       "      <td>0.124840</td>\n",
       "      <td>0.225394</td>\n",
       "      <td>0.177248</td>\n",
       "      <td>0.340861</td>\n",
       "      <td>0.062633</td>\n",
       "    </tr>\n",
       "    <tr>\n",
       "      <th>南京</th>\n",
       "      <td>0.096386</td>\n",
       "      <td>0.048193</td>\n",
       "      <td>0.361446</td>\n",
       "      <td>0.301205</td>\n",
       "      <td>0.132530</td>\n",
       "      <td>0.060241</td>\n",
       "      <td>NaN</td>\n",
       "    </tr>\n",
       "    <tr>\n",
       "      <th>厦门</th>\n",
       "      <td>NaN</td>\n",
       "      <td>0.200000</td>\n",
       "      <td>0.300000</td>\n",
       "      <td>0.433333</td>\n",
       "      <td>NaN</td>\n",
       "      <td>0.066667</td>\n",
       "      <td>NaN</td>\n",
       "    </tr>\n",
       "    <tr>\n",
       "      <th>天津</th>\n",
       "      <td>0.050000</td>\n",
       "      <td>0.300000</td>\n",
       "      <td>0.350000</td>\n",
       "      <td>0.200000</td>\n",
       "      <td>0.100000</td>\n",
       "      <td>NaN</td>\n",
       "      <td>NaN</td>\n",
       "    </tr>\n",
       "  </tbody>\n",
       "</table>\n",
       "</div>"
      ],
      "text/plain": [
       "level       0~3       3~5      5~10     10~15     15~20     20~30       30+\n",
       "city                                                                       \n",
       "上海     0.038815  0.034729  0.121553  0.312564  0.209397  0.229826  0.053115\n",
       "北京     0.022582  0.046442  0.124840  0.225394  0.177248  0.340861  0.062633\n",
       "南京     0.096386  0.048193  0.361446  0.301205  0.132530  0.060241       NaN\n",
       "厦门          NaN  0.200000  0.300000  0.433333       NaN  0.066667       NaN\n",
       "天津     0.050000  0.300000  0.350000  0.200000  0.100000       NaN       NaN"
      ]
     },
     "execution_count": 45,
     "metadata": {},
     "output_type": "execute_result"
    }
   ],
   "source": [
    "df_level_prop.head(5)"
   ]
  },
  {
   "cell_type": "markdown",
   "metadata": {},
   "source": [
    "**5. 整理职位标签**"
   ]
  },
  {
   "cell_type": "code",
   "execution_count": 46,
   "metadata": {},
   "outputs": [
    {
     "data": {
      "text/plain": [
       "0    ['分析师', '数据分析', '数据挖掘', '数据']\n",
       "1    ['分析师', '数据分析', '数据挖掘', '数据']\n",
       "2            ['分析师', '数据分析', '数据']\n",
       "3       ['商业', '分析师', '大数据', '数据']\n",
       "4      ['分析师', '数据分析', '数据', 'BI']\n",
       "Name: positionLables, dtype: object"
      ]
     },
     "execution_count": 46,
     "metadata": {},
     "output_type": "execute_result"
    }
   ],
   "source": [
    "df_clean.positionLables.head()"
   ]
  },
  {
   "cell_type": "markdown",
   "metadata": {},
   "source": [
    "**去除`[]`**"
   ]
  },
  {
   "cell_type": "markdown",
   "metadata": {},
   "source": [
    "`str()`方法允许我们对列中的元素进行字符串相关的处理"
   ]
  },
  {
   "cell_type": "code",
   "execution_count": 48,
   "metadata": {},
   "outputs": [
    {
     "data": {
      "text/plain": [
       "0    '分析师', '数据分析', '数据挖掘', '数据'\n",
       "1    '分析师', '数据分析', '数据挖掘', '数据'\n",
       "2            '分析师', '数据分析', '数据'\n",
       "3       '商业', '分析师', '大数据', '数据'\n",
       "4      '分析师', '数据分析', '数据', 'BI'\n",
       "Name: positionLables, dtype: object"
      ]
     },
     "execution_count": 48,
     "metadata": {},
     "output_type": "execute_result"
    }
   ],
   "source": [
    "df_clean.positionLables.str[1:-1].head()"
   ]
  },
  {
   "cell_type": "markdown",
   "metadata": {},
   "source": [
    "**去除空格**"
   ]
  },
  {
   "cell_type": "code",
   "execution_count": 49,
   "metadata": {},
   "outputs": [
    {
     "data": {
      "text/plain": [
       "0    '分析师','数据分析','数据挖掘','数据'\n",
       "1    '分析师','数据分析','数据挖掘','数据'\n",
       "2           '分析师','数据分析','数据'\n",
       "3       '商业','分析师','大数据','数据'\n",
       "4      '分析师','数据分析','数据','BI'\n",
       "Name: positionLables, dtype: object"
      ]
     },
     "execution_count": 49,
     "metadata": {},
     "output_type": "execute_result"
    }
   ],
   "source": [
    "df_clean.positionLables.str[1:-1].str.replace(' ', '').head()"
   ]
  },
  {
   "cell_type": "markdown",
   "metadata": {},
   "source": [
    "**positionLables本身有空值，需要提出，不然容易报错，我们可以使用`split`方法把元素中的标签拆分成列表：**"
   ]
  },
  {
   "cell_type": "code",
   "execution_count": 51,
   "metadata": {},
   "outputs": [
    {
     "data": {
      "text/html": [
       "<div>\n",
       "<style>\n",
       "    .dataframe thead tr:only-child th {\n",
       "        text-align: right;\n",
       "    }\n",
       "\n",
       "    .dataframe thead th {\n",
       "        text-align: left;\n",
       "    }\n",
       "\n",
       "    .dataframe tbody tr th {\n",
       "        vertical-align: top;\n",
       "    }\n",
       "</style>\n",
       "<table border=\"1\" class=\"dataframe\">\n",
       "  <thead>\n",
       "    <tr style=\"text-align: right;\">\n",
       "      <th></th>\n",
       "      <th>'.NET'</th>\n",
       "      <th>'15天年假'</th>\n",
       "      <th>'Android'</th>\n",
       "      <th>'BD'</th>\n",
       "      <th>'BI'</th>\n",
       "      <th>'B端'</th>\n",
       "      <th>'C'</th>\n",
       "      <th>'C++'</th>\n",
       "      <th>'C/C++'</th>\n",
       "      <th>'CRM'</th>\n",
       "      <th>...</th>\n",
       "      <th>'音视频处理'</th>\n",
       "      <th>'项目管理'</th>\n",
       "      <th>'项目经理'</th>\n",
       "      <th>'顾问'</th>\n",
       "      <th>'风控'</th>\n",
       "      <th>'风险控制'</th>\n",
       "      <th>'餐饮'</th>\n",
       "      <th>'驾照'</th>\n",
       "      <th>'高校'</th>\n",
       "      <th>'高级'</th>\n",
       "    </tr>\n",
       "  </thead>\n",
       "  <tbody>\n",
       "    <tr>\n",
       "      <th>0</th>\n",
       "      <td>NaN</td>\n",
       "      <td>NaN</td>\n",
       "      <td>NaN</td>\n",
       "      <td>NaN</td>\n",
       "      <td>NaN</td>\n",
       "      <td>NaN</td>\n",
       "      <td>NaN</td>\n",
       "      <td>NaN</td>\n",
       "      <td>NaN</td>\n",
       "      <td>NaN</td>\n",
       "      <td>...</td>\n",
       "      <td>NaN</td>\n",
       "      <td>NaN</td>\n",
       "      <td>NaN</td>\n",
       "      <td>NaN</td>\n",
       "      <td>NaN</td>\n",
       "      <td>NaN</td>\n",
       "      <td>NaN</td>\n",
       "      <td>NaN</td>\n",
       "      <td>NaN</td>\n",
       "      <td>NaN</td>\n",
       "    </tr>\n",
       "    <tr>\n",
       "      <th>1</th>\n",
       "      <td>NaN</td>\n",
       "      <td>NaN</td>\n",
       "      <td>NaN</td>\n",
       "      <td>NaN</td>\n",
       "      <td>NaN</td>\n",
       "      <td>NaN</td>\n",
       "      <td>NaN</td>\n",
       "      <td>NaN</td>\n",
       "      <td>NaN</td>\n",
       "      <td>NaN</td>\n",
       "      <td>...</td>\n",
       "      <td>NaN</td>\n",
       "      <td>NaN</td>\n",
       "      <td>NaN</td>\n",
       "      <td>NaN</td>\n",
       "      <td>NaN</td>\n",
       "      <td>NaN</td>\n",
       "      <td>NaN</td>\n",
       "      <td>NaN</td>\n",
       "      <td>NaN</td>\n",
       "      <td>NaN</td>\n",
       "    </tr>\n",
       "    <tr>\n",
       "      <th>2</th>\n",
       "      <td>NaN</td>\n",
       "      <td>NaN</td>\n",
       "      <td>NaN</td>\n",
       "      <td>NaN</td>\n",
       "      <td>NaN</td>\n",
       "      <td>NaN</td>\n",
       "      <td>NaN</td>\n",
       "      <td>NaN</td>\n",
       "      <td>NaN</td>\n",
       "      <td>NaN</td>\n",
       "      <td>...</td>\n",
       "      <td>NaN</td>\n",
       "      <td>NaN</td>\n",
       "      <td>NaN</td>\n",
       "      <td>NaN</td>\n",
       "      <td>NaN</td>\n",
       "      <td>NaN</td>\n",
       "      <td>NaN</td>\n",
       "      <td>NaN</td>\n",
       "      <td>NaN</td>\n",
       "      <td>NaN</td>\n",
       "    </tr>\n",
       "    <tr>\n",
       "      <th>3</th>\n",
       "      <td>NaN</td>\n",
       "      <td>NaN</td>\n",
       "      <td>NaN</td>\n",
       "      <td>NaN</td>\n",
       "      <td>NaN</td>\n",
       "      <td>NaN</td>\n",
       "      <td>NaN</td>\n",
       "      <td>NaN</td>\n",
       "      <td>NaN</td>\n",
       "      <td>NaN</td>\n",
       "      <td>...</td>\n",
       "      <td>NaN</td>\n",
       "      <td>NaN</td>\n",
       "      <td>NaN</td>\n",
       "      <td>NaN</td>\n",
       "      <td>NaN</td>\n",
       "      <td>NaN</td>\n",
       "      <td>NaN</td>\n",
       "      <td>NaN</td>\n",
       "      <td>NaN</td>\n",
       "      <td>NaN</td>\n",
       "    </tr>\n",
       "    <tr>\n",
       "      <th>4</th>\n",
       "      <td>NaN</td>\n",
       "      <td>NaN</td>\n",
       "      <td>NaN</td>\n",
       "      <td>NaN</td>\n",
       "      <td>1.0</td>\n",
       "      <td>NaN</td>\n",
       "      <td>NaN</td>\n",
       "      <td>NaN</td>\n",
       "      <td>NaN</td>\n",
       "      <td>NaN</td>\n",
       "      <td>...</td>\n",
       "      <td>NaN</td>\n",
       "      <td>NaN</td>\n",
       "      <td>NaN</td>\n",
       "      <td>NaN</td>\n",
       "      <td>NaN</td>\n",
       "      <td>NaN</td>\n",
       "      <td>NaN</td>\n",
       "      <td>NaN</td>\n",
       "      <td>NaN</td>\n",
       "      <td>NaN</td>\n",
       "    </tr>\n",
       "  </tbody>\n",
       "</table>\n",
       "<p>5 rows × 267 columns</p>\n",
       "</div>"
      ],
      "text/plain": [
       "   '.NET'  '15天年假'  'Android'  'BD'  'BI'  'B端'  'C'  'C++'  'C/C++'  'CRM'  \\\n",
       "0     NaN      NaN        NaN   NaN   NaN   NaN  NaN    NaN      NaN    NaN   \n",
       "1     NaN      NaN        NaN   NaN   NaN   NaN  NaN    NaN      NaN    NaN   \n",
       "2     NaN      NaN        NaN   NaN   NaN   NaN  NaN    NaN      NaN    NaN   \n",
       "3     NaN      NaN        NaN   NaN   NaN   NaN  NaN    NaN      NaN    NaN   \n",
       "4     NaN      NaN        NaN   NaN   1.0   NaN  NaN    NaN      NaN    NaN   \n",
       "\n",
       "   ...   '音视频处理'  '项目管理'  '项目经理'  '顾问'  '风控'  '风险控制'  '餐饮'  '驾照'  '高校'  '高级'  \n",
       "0  ...       NaN     NaN     NaN   NaN   NaN     NaN   NaN   NaN   NaN   NaN  \n",
       "1  ...       NaN     NaN     NaN   NaN   NaN     NaN   NaN   NaN   NaN   NaN  \n",
       "2  ...       NaN     NaN     NaN   NaN   NaN     NaN   NaN   NaN   NaN   NaN  \n",
       "3  ...       NaN     NaN     NaN   NaN   NaN     NaN   NaN   NaN   NaN   NaN  \n",
       "4  ...       NaN     NaN     NaN   NaN   NaN     NaN   NaN   NaN   NaN   NaN  \n",
       "\n",
       "[5 rows x 267 columns]"
      ]
     },
     "execution_count": 51,
     "metadata": {},
     "output_type": "execute_result"
    }
   ],
   "source": [
    "word = df_clean.positionLables.str[1:-1].str.replace(' ', '')\n",
    "df_word = word.dropna().str.split(',').apply(pd.value_counts)\n",
    "df_word.head()"
   ]
  },
  {
   "cell_type": "markdown",
   "metadata": {},
   "source": [
    "上面代码中我们通过apply和value_counts统计标签数组成一张新表。"
   ]
  },
  {
   "cell_type": "markdown",
   "metadata": {},
   "source": [
    "**用unstack()完成转置**"
   ]
  },
  {
   "cell_type": "code",
   "execution_count": 52,
   "metadata": {},
   "outputs": [
    {
     "data": {
      "text/plain": [
       "'.NET'  0   NaN\n",
       "        1   NaN\n",
       "        2   NaN\n",
       "        3   NaN\n",
       "        4   NaN\n",
       "        5   NaN\n",
       "        6   NaN\n",
       "        7   NaN\n",
       "dtype: float64"
      ]
     },
     "execution_count": 52,
     "metadata": {},
     "output_type": "execute_result"
    }
   ],
   "source": [
    "df_word.unstack().head(8)"
   ]
  },
  {
   "cell_type": "markdown",
   "metadata": {},
   "source": [
    "**将空值删除，重置为DataFram**"
   ]
  },
  {
   "cell_type": "code",
   "execution_count": 53,
   "metadata": {},
   "outputs": [
    {
     "data": {
      "text/html": [
       "<div>\n",
       "<style>\n",
       "    .dataframe thead tr:only-child th {\n",
       "        text-align: right;\n",
       "    }\n",
       "\n",
       "    .dataframe thead th {\n",
       "        text-align: left;\n",
       "    }\n",
       "\n",
       "    .dataframe tbody tr th {\n",
       "        vertical-align: top;\n",
       "    }\n",
       "</style>\n",
       "<table border=\"1\" class=\"dataframe\">\n",
       "  <thead>\n",
       "    <tr style=\"text-align: right;\">\n",
       "      <th></th>\n",
       "      <th>level_0</th>\n",
       "      <th>level_1</th>\n",
       "      <th>0</th>\n",
       "    </tr>\n",
       "  </thead>\n",
       "  <tbody>\n",
       "    <tr>\n",
       "      <th>0</th>\n",
       "      <td>'.NET'</td>\n",
       "      <td>1397</td>\n",
       "      <td>1.0</td>\n",
       "    </tr>\n",
       "    <tr>\n",
       "      <th>1</th>\n",
       "      <td>'.NET'</td>\n",
       "      <td>2822</td>\n",
       "      <td>1.0</td>\n",
       "    </tr>\n",
       "    <tr>\n",
       "      <th>2</th>\n",
       "      <td>'.NET'</td>\n",
       "      <td>3765</td>\n",
       "      <td>1.0</td>\n",
       "    </tr>\n",
       "    <tr>\n",
       "      <th>3</th>\n",
       "      <td>'.NET'</td>\n",
       "      <td>3949</td>\n",
       "      <td>1.0</td>\n",
       "    </tr>\n",
       "    <tr>\n",
       "      <th>4</th>\n",
       "      <td>'.NET'</td>\n",
       "      <td>3954</td>\n",
       "      <td>1.0</td>\n",
       "    </tr>\n",
       "    <tr>\n",
       "      <th>5</th>\n",
       "      <td>'.NET'</td>\n",
       "      <td>4114</td>\n",
       "      <td>1.0</td>\n",
       "    </tr>\n",
       "    <tr>\n",
       "      <th>6</th>\n",
       "      <td>'15天年假'</td>\n",
       "      <td>1726</td>\n",
       "      <td>1.0</td>\n",
       "    </tr>\n",
       "    <tr>\n",
       "      <th>7</th>\n",
       "      <td>'Android'</td>\n",
       "      <td>1821</td>\n",
       "      <td>1.0</td>\n",
       "    </tr>\n",
       "    <tr>\n",
       "      <th>8</th>\n",
       "      <td>'BD'</td>\n",
       "      <td>360</td>\n",
       "      <td>1.0</td>\n",
       "    </tr>\n",
       "    <tr>\n",
       "      <th>9</th>\n",
       "      <td>'BD'</td>\n",
       "      <td>661</td>\n",
       "      <td>1.0</td>\n",
       "    </tr>\n",
       "    <tr>\n",
       "      <th>10</th>\n",
       "      <td>'BD'</td>\n",
       "      <td>667</td>\n",
       "      <td>1.0</td>\n",
       "    </tr>\n",
       "    <tr>\n",
       "      <th>11</th>\n",
       "      <td>'BD'</td>\n",
       "      <td>2095</td>\n",
       "      <td>1.0</td>\n",
       "    </tr>\n",
       "    <tr>\n",
       "      <th>12</th>\n",
       "      <td>'BD'</td>\n",
       "      <td>2994</td>\n",
       "      <td>1.0</td>\n",
       "    </tr>\n",
       "    <tr>\n",
       "      <th>13</th>\n",
       "      <td>'BD'</td>\n",
       "      <td>3071</td>\n",
       "      <td>1.0</td>\n",
       "    </tr>\n",
       "    <tr>\n",
       "      <th>14</th>\n",
       "      <td>'BD'</td>\n",
       "      <td>3230</td>\n",
       "      <td>1.0</td>\n",
       "    </tr>\n",
       "  </tbody>\n",
       "</table>\n",
       "</div>"
      ],
      "text/plain": [
       "      level_0  level_1    0\n",
       "0      '.NET'     1397  1.0\n",
       "1      '.NET'     2822  1.0\n",
       "2      '.NET'     3765  1.0\n",
       "3      '.NET'     3949  1.0\n",
       "4      '.NET'     3954  1.0\n",
       "5      '.NET'     4114  1.0\n",
       "6     '15天年假'     1726  1.0\n",
       "7   'Android'     1821  1.0\n",
       "8        'BD'      360  1.0\n",
       "9        'BD'      661  1.0\n",
       "10       'BD'      667  1.0\n",
       "11       'BD'     2095  1.0\n",
       "12       'BD'     2994  1.0\n",
       "13       'BD'     3071  1.0\n",
       "14       'BD'     3230  1.0"
      ]
     },
     "execution_count": 53,
     "metadata": {},
     "output_type": "execute_result"
    }
   ],
   "source": [
    "df_word.unstack().dropna().reset_index().head(15)"
   ]
  },
  {
   "cell_type": "markdown",
   "metadata": {},
   "source": [
    "level_0位标签名，level_1位df_index的索引，0是该标签在职位中出现的次数。"
   ]
  },
  {
   "cell_type": "markdown",
   "metadata": {},
   "source": [
    "**词云分析**"
   ]
  },
  {
   "cell_type": "code",
   "execution_count": 60,
   "metadata": {},
   "outputs": [],
   "source": [
    "from wordcloud import WordCloud"
   ]
  },
  {
   "cell_type": "code",
   "execution_count": 61,
   "metadata": {},
   "outputs": [
    {
     "data": {
      "image/png": "[encoded data removed]",
      "text/plain": [
       "<matplotlib.figure.Figure at 0x27780d767b8>"
      ]
     },
     "metadata": {},
     "output_type": "display_data"
    }
   ],
   "source": [
    "df_word_counts = df_word.unstack().dropna().reset_index().groupby('level_0').count()\n",
    "df_word_counts.index = df_word_counts.index.str.replace(\"'\", \"\")\n",
    "\n",
    "wordcloud = WordCloud(font_path=\"C:\\Windows\\Fonts\\msyh.ttc\",\n",
    "                    width = 900, height = 400,\n",
    "                    background_color = 'white')\n",
    "\n",
    "f, axs = plt.subplots(figsize=(15, 15))\n",
    "wordcloud.fit_words(df_word_counts.level_1)\n",
    "axs = plt.imshow(wordcloud)\n",
    "plt.axis('off')\n",
    "plt.show() "
   ]
  }
 ],
 "metadata": {
  "kernelspec": {
   "display_name": "Python 3",
   "language": "python",
   "name": "python3"
  },
  "language_info": {
   "codemirror_mode": {
    "name": "ipython",
    "version": 3
   },
   "file_extension": ".py",
   "mimetype": "text/x-python",
   "name": "python",
   "nbconvert_exporter": "python",
   "pygments_lexer": "ipython3",
   "version": "3.5.2"
  }
 },
 "nbformat": 4,
 "nbformat_minor": 2
}
